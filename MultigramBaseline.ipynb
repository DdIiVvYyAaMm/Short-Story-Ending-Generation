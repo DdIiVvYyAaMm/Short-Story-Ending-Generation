{
 "cells": [
  {
   "cell_type": "markdown",
   "metadata": {},
   "source": [
    "# Character-level Language Models\n",
    "\n",
    "### [Derived from a blog post by Yoav Goldberg](https://nbviewer.jupyter.org/gist/yoavg/d76121dfde2618422139)"
   ]
  },
  {
   "cell_type": "markdown",
   "metadata": {},
   "source": [
    "## Unsmoothed Maximum Likelihood Character Level Language Model \n",
    "\n",
    "\n"
   ]
  },
  {
   "cell_type": "markdown",
   "metadata": {},
   "source": [
    "### Training Code\n",
    "Here is the code for training the model. `fname` is a file to read the characters from. `order` is the history size to consult (i.e., the $n$ in your $n$-gram). Note that we pad the data with leading `~` so that we also learn how to start (this is your `<START>` symbol in most language model notation.\n"
   ]
  },
  {
   "cell_type": "code",
   "execution_count": 92,
   "metadata": {},
   "outputs": [],
   "source": [
    "import pandas as pd\n",
    "import csv\n",
    "import random\n",
    "from collections import *"
   ]
  },
  {
   "cell_type": "code",
   "execution_count": 93,
   "metadata": {},
   "outputs": [],
   "source": [
    "def train_char_lm(fname, order=4):\n",
    "    with open(fname) as f:\n",
    "        data = '\\n'.join(f.readlines())\n",
    "    lm = defaultdict(Counter)\n",
    "    pad = \"~\" * order\n",
    "    data = pad + data\n",
    "    for i in range(len(data)-order):\n",
    "        history, char = data[i:i+order], data[i+order]\n",
    "        lm[history][char]+=1\n",
    "    def normalize(counter):\n",
    "        s = float(sum(counter.values()))\n",
    "        return [(c,cnt/s) for c,cnt in counter.items()]\n",
    "\n",
    "    outlm = {hist:normalize(chars) for hist, chars in lm.items()}\n",
    "    return outlm"
   ]
  },
  {
   "cell_type": "code",
   "execution_count": 94,
   "metadata": {},
   "outputs": [],
   "source": [
    "df=pd.read_csv('./ROCStories__spring2016 - ROCStories_spring2016.csv')"
   ]
  },
  {
   "cell_type": "code",
   "execution_count": 95,
   "metadata": {},
   "outputs": [],
   "source": [
    "df=df.drop(columns=['storyid', 'storytitle'])"
   ]
  },
  {
   "cell_type": "code",
   "execution_count": 96,
   "metadata": {},
   "outputs": [],
   "source": [
    "df['text'] = df.apply(lambda row: ' '.join(row.values.astype(str)), axis=1)"
   ]
  },
  {
   "cell_type": "code",
   "execution_count": 97,
   "metadata": {},
   "outputs": [],
   "source": [
    "df['text'].to_csv('./ROCstories2016.txt', index=False, header=False)"
   ]
  },
  {
   "cell_type": "code",
   "execution_count": 98,
   "metadata": {},
   "outputs": [],
   "source": [
    "def read_random_sentences(file_path, n=10):\n",
    "    \"\"\"\n",
    "    Reads the fifth sentence from n random lines in a CSV file.\n",
    "\n",
    "    Parameters:\n",
    "    - file_path: Path to the CSV file.\n",
    "    - n: Number of random lines to read.\n",
    "\n",
    "    Returns:\n",
    "    - A list containing the fifth sentence from n random lines of the file.\n",
    "    \"\"\"\n",
    "    # Initialize an empty list to hold the fifth sentences\n",
    "    sentences = []\n",
    "\n",
    "    try:\n",
    "        # Open the file and create a csv.reader object\n",
    "        with open(file_path, 'r', newline='', encoding='utf-8') as file:\n",
    "            reader = csv.DictReader(file)\n",
    "            rows = list(reader)  # Convert iterator to list to get total count and allow random access\n",
    "            \n",
    "            total_lines = len(rows)  # Get the total number of lines in the file\n",
    "            \n",
    "            # Ensure we don't try to sample more lines than exist in the file\n",
    "            n = min(n, total_lines)\n",
    "            \n",
    "            # Generate n unique random indices\n",
    "            random_indices = random.sample(range(total_lines), n)\n",
    "            \n",
    "            # Retrieve and store the fifth sentence from each randomly selected line\n",
    "            for index in random_indices:\n",
    "                sentences.append(rows[index]['sentence5'])  # Access by column name\n",
    "\n",
    "    except FileNotFoundError:\n",
    "        print(f\"File not found: {file_path}\")\n",
    "    except Exception as e:\n",
    "        print(f\"An error occurred: {e}\")\n",
    "\n",
    "    return sentences\n"
   ]
  },
  {
   "cell_type": "code",
   "execution_count": 99,
   "metadata": {},
   "outputs": [
    {
     "name": "stdout",
     "output_type": "stream",
     "text": [
      "['The DJ appreciated the enthusiasm so much he played the song.', 'Disgusted, he got up and quickly brushed his teeth.', 'Julia was both in shock and happy with her new style.', 'Now he is an advocate for all his friends to get their eyes checked.', 'John is hoping this is his big break!', 'Amy left the class without thinking of Ray again that day.', 'Luckily, when the results were posted he saw that he had passed.', \"Dad found Jason with a 100' of VHS tape in his lap.\", 'Neighbors now help Doris take care of her flower bed.', 'Now I save a lot of money and am insured!', 'Cassie switched bras, and her shirts began to fit her just fine.', 'John surprised Brittany with a carnation and it made her very happy.', 'James now has achieved his life long dream of flying a rocket.', 'Skye and her friends chased him, then resumed trick-or-treating.', 'She vowed never to touch rum again!', 'Allison and Bobo are now best friends!', 'Maya decides that she should never have lived without steak.', 'Luckily, there were plenty of other cookies.', 'Amy was relieved when lunch ended and she no longer had to play nice.', 'Brent suddenly felt a lot better about taking this class.', 'Amy just wanted the weather to stay at one temperature.', \"Unfortunately Sam couldn't keep paying to build the pool.\", 'However, my teacher gave me full credit while she received an F.', 'I then ran to the bathroom and cried.', 'But to her surprise, it was a lovely photo!', 'Luckily, one of the custodians fished it out and returned it to her.', 'I was happy about the new project.', 'She hugged her mom when Mrs Molly was fixed because she was so happy.', 'After that, they never put firecrackers on a bench again.', 'Dalton got sick on the ride.', 'Soon he had a homemade new pair of jean shorts!', 'I cried in frustration.', 'Linday now uses protective shampoo to save her hair.', \"She said Dad would choose to play golf but I didn't think so.\", 'But she had wondered where Bill had been all day!', 'The principal sent a substitute to help teach the class.', 'Ann quickly began writing down many presents resulting in a big list.', 'She learned to protect her work.', 'Thankfully, my friend wrote the letter.', 'But when she returned it was gone.', 'She picks the job with the best offer, and starts on Monday!', 'They called the restaurant to tell them.', 'Luckily, he managed to stay seated on the raft.', 'He decided to give up on a tree.', 'It was very yummy!', 'I made it to the top but started getting scared, so I stopped.', 'It took 30 minutes to move enough snow to park the car.', \"Now, I didn't have to rake the leaves.\", 'Alfred was grounded for lying and doing poorly.', \"Anna's cheek sustained a scratch in the accident.\", 'The road was washed away and took the truck with it.', 'It was a Dr Who marathon, and she was sad when it was over.', 'Ed decided to head back before he became lost.', 'At the last moment Gina was able to regain control of the car', 'The chef decided to make due with duck, and the meal was a hit.', 'I ate my lunch.', 'It was worth the anticipation.', 'Unfortunately, they were unable to do so.', 'From then on, Jon committed to becoming a more ethical person.', 'Spaghetti squash turned out to be the best discovery he had ever had!', 'She had to return the hamster to the store.', 'And Sam apologized to Don.', 'He is grateful to his father for his help.', \"Jake became thankful for all he's done in his twenties.\", 'Within 10 minutes, she had the mouse on her mouth, dead.', 'We bought a newer, faster camera this week.', 'He now gets paid to write them.', 'They got out of their seats in order to avoid being burned.', 'Gina wanted one just like it.', \"Fabian couldn't replicate the same results and lost the game.\", 'Only then would I go back in her room.', 'When he is finally finished, he is proud of his good work.', 'Ella got a kiss from Mama after being hit by the grape-hoarding fridge.', 'She was humbled, and never got surgery again.', 'After they get tired, they will nap together.', 'With a heavy heart Lucy turned to go to bed.', 'She could no longer drive with her ruined windshield.', 'When Michael returned home, he promised to take another trip soon.', \"Jessie's mother did not answer the phone.\", 'As such, he will probably continue doing it for a while.', \"James couldn't wait to go sledding again!\", 'The teacher failed him.', 'He ended up being hired at FedEx.', 'He started walking, and tripped, spilling punch all over his friend.', 'They had a wonderful time at the prom.', 'My girlfriend will be getting a fat boyfriend as a present.', 'The same can be said for a lot of television though.', 'They spent an hour talking.', \"Anna's class loved her Irish donuts!\", 'Eventually, I found his weakness and beat him during the first round.', 'He let the fish go, hoping his kindness would bring him luck.', \"Unfortunately, the tickets were fakes and the boys couldn't go in.\", 'I will keep posting it until it sells.', 'Knowing the baby was safe, Paula finally enjoyed an evening out.', 'I was angry so the airline gave me a free lunch.', 'I immediately fell asleep when I got home.', 'Carson is so happy he left his job in television.', 'Anne had made a lovely wildflower bouquet!', 'Michael was so happy that he had a furry friend at home.', \"Dina's daughter decided that she liked her hair after all.\"]\n"
     ]
    }
   ],
   "source": [
    "# Example usage:\n",
    "file_path = './ROCStories__spring2016 - ROCStories_spring2016.csv'  # Replace with your actual CSV file path\n",
    "random_sentences = read_random_sentences(file_path, n=100)\n",
    "print(random_sentences)"
   ]
  },
  {
   "cell_type": "markdown",
   "metadata": {},
   "source": [
    "Let's train!"
   ]
  },
  {
   "cell_type": "markdown",
   "metadata": {},
   "source": [
    "### Generating from the model\n",
    "Generating is also very simple. To generate a letter, we will take the history, look at the last $order$ characteters, and then sample a random letter based on the corresponding distribution."
   ]
  },
  {
   "cell_type": "code",
   "execution_count": 100,
   "metadata": {},
   "outputs": [],
   "source": [
    "def generate_letter(lm, history, order):\n",
    "        history = history[-order:]\n",
    "        dist = lm[history]\n",
    "        x = random.random()\n",
    "        for c,v in dist:\n",
    "            x = x - v\n",
    "            if x <= 0: return c"
   ]
  },
  {
   "cell_type": "markdown",
   "metadata": {},
   "source": [
    "To generate a passage of $k$ characters, we just seed it with the initial history and run letter generation in a loop, updating the history at each turn."
   ]
  },
  {
   "cell_type": "code",
   "execution_count": 101,
   "metadata": {},
   "outputs": [],
   "source": [
    "def generate_text(lm, order, nletters=500):\n",
    "    history = \"~\" * order\n",
    "    out = []\n",
    "    for i in range(nletters):\n",
    "        c = generate_letter(lm, history, order)\n",
    "        history = history[-order:] + c\n",
    "        out.append(c)\n",
    "    return \"\".join(out)"
   ]
  },
  {
   "cell_type": "markdown",
   "metadata": {},
   "source": [
    "### Generated Story Ending from different order models\n",
    "\n",
    "Let's try to generate text based on different language-model orders. Let's start with something silly:\n",
    "\n",
    "### order 2:"
   ]
  },
  {
   "cell_type": "code",
   "execution_count": 102,
   "metadata": {},
   "outputs": [],
   "source": [
    "lm = train_char_lm(\"ROCstories2016.txt\", order=2)"
   ]
  },
  {
   "cell_type": "code",
   "execution_count": 103,
   "metadata": {},
   "outputs": [
    {
     "name": "stdout",
     "output_type": "stream",
     "text": [
      "Dall. She us.\"\n",
      "\n",
      "Len and parted it triummy wore.\"\n",
      "\n",
      "\"Jim thday for frileft the gavoultur cobought didencionted trook taught her. She balked. So wany st the to to buslee ther a steved he losides but and he top a recorricked Cor schounignme vot and as day st as pas firs taked. Her had New sking herah gan hout iffeck ane he riesso everess th iteren like re me wor to beas exambe gir thas ary whising ard nis the hooks frived the piell the doctry was was roun. Hisawand hat hiso antool pes sounds ore his\n"
     ]
    }
   ],
   "source": [
    "print(generate_text(lm, 2))"
   ]
  },
  {
   "cell_type": "markdown",
   "metadata": {},
   "source": [
    "Not so great.. but what if we increase the order to 4?\n",
    "\n",
    "### order 4"
   ]
  },
  {
   "cell_type": "code",
   "execution_count": 104,
   "metadata": {},
   "outputs": [],
   "source": [
    "lm = train_char_lm(\"ROCstories2016.txt\", order=4)"
   ]
  },
  {
   "cell_type": "code",
   "execution_count": 105,
   "metadata": {
    "scrolled": true
   },
   "outputs": [
    {
     "name": "stdout",
     "output_type": "stream",
     "text": [
      "Dan's doing to he next daughter and adorability of a geckoutside thing! She tide to water a come wires if went back home more all. As that night shoes. On his from the next money to the first weekend. He just ever, Joe.\n",
      "\n",
      "Early the had beach morning to badly. Thing is a long a has best he what guy fit. It was started nevery looking the heard and Sam at the loved shell overcame asketball since on. I check homewhere.\n",
      "\n",
      "\"Jane on likes mom the road their school swing he was believed to a Fred and hot \n"
     ]
    }
   ],
   "source": [
    "print(generate_text(lm, 4))"
   ]
  },
  {
   "cell_type": "code",
   "execution_count": 106,
   "metadata": {},
   "outputs": [
    {
     "name": "stdout",
     "output_type": "stream",
     "text": [
      "Dan's bowling back at Moroccoli airfield an apples nerved the on said she banne was Alas, I play the spillion. She doctor it was sister photos. I rough for died as family always play what his pizza food idea the more to help her eyes white, Jared to a new he chance headphone cookies and looking. She went in class. So her coach the creamed it for excited they seat exactly. We disticing at a free was verywhere, and traves the didn't life and city.\"\n",
      "\n",
      "Jake park. They kept the for the taught during w\n"
     ]
    }
   ],
   "source": [
    "print(generate_text(lm, 4))"
   ]
  },
  {
   "cell_type": "markdown",
   "metadata": {},
   "source": [
    "This is already quite reasonable, and reads like English. Just 4 letters history! What if we increase it to 7?\n",
    "\n",
    "### order 7"
   ]
  },
  {
   "cell_type": "code",
   "execution_count": 107,
   "metadata": {},
   "outputs": [],
   "source": [
    "lm = train_char_lm(\"ROCstories2016.txt\", order=7)"
   ]
  },
  {
   "cell_type": "code",
   "execution_count": 108,
   "metadata": {},
   "outputs": [
    {
     "name": "stdout",
     "output_type": "stream",
     "text": [
      "Dan's pair of his life!\"\n",
      "\n",
      "Little Jimmy got to her family. They check.\n",
      "\n",
      "I just worn out to leave. Four weeks. She saw he had a twin. One day I realized the boy's' parents as well. Unfortunately they greetings scheduled that the best gym around a beating post in time. One day he took us out of the guitar and immediately and decorating was too tall this to hang out. When he won't go anywhere force out that he had a girl saw amazing progress. But soon so Lulu got a new brother zoo and pulled into he\n"
     ]
    }
   ],
   "source": [
    "print(generate_text(lm, 7))"
   ]
  },
  {
   "cell_type": "markdown",
   "metadata": {},
   "source": [
    "### How about 10?"
   ]
  },
  {
   "cell_type": "code",
   "execution_count": 109,
   "metadata": {},
   "outputs": [],
   "source": [
    "lm = train_char_lm(\"ROCstories2016.txt\", order=10)"
   ]
  },
  {
   "cell_type": "code",
   "execution_count": 110,
   "metadata": {},
   "outputs": [
    {
     "name": "stdout",
     "output_type": "stream",
     "text": [
      "Dan's parent's trust.\"\n",
      "\n",
      "\"When I was ten my uncle gave me some sea life. She had never been to one before. On his first day of school. She hoped they would. Horace's girlfriend with her sister has formed on her day. The next day at school. The room stayed home to his friend Timothy. James trained the whole day making crafts for Christmas. She went for a walk and saw his friend told them to go to college was looking forward to Saint Croix. For our 25th wedding and watch the premiere of a new movie\n"
     ]
    }
   ],
   "source": [
    "print(generate_text(lm, 10))"
   ]
  },
  {
   "cell_type": "code",
   "execution_count": 111,
   "metadata": {},
   "outputs": [],
   "source": [
    "from evaluate import load\n",
    "bertscore = load(\"bertscore\")\n"
   ]
  },
  {
   "cell_type": "code",
   "execution_count": 112,
   "metadata": {},
   "outputs": [
    {
     "name": "stderr",
     "output_type": "stream",
     "text": [
      "Some weights of RobertaModel were not initialized from the model checkpoint at roberta-large and are newly initialized: ['roberta.pooler.dense.bias', 'roberta.pooler.dense.weight']\n",
      "You should probably TRAIN this model on a down-stream task to be able to use it for predictions and inference.\n"
     ]
    },
    {
     "data": {
      "text/plain": [
       "{'precision': [0.9999998211860657, 1.0000003576278687],\n",
       " 'recall': [0.9999998211860657, 1.0000003576278687],\n",
       " 'f1': [0.9999998211860657, 1.0000003576278687],\n",
       " 'hashcode': 'roberta-large_L17_no-idf_version=0.3.12(hug_trans=4.38.2)'}"
      ]
     },
     "execution_count": 112,
     "metadata": {},
     "output_type": "execute_result"
    }
   ],
   "source": [
    "predictions = [\"hello there\", \"general kenobi\"]\n",
    "references = [\"hello there\", \"general kenobi\"]\n",
    "# results = \n",
    "bertscore.compute(predictions=predictions, references=references, lang=\"en\")"
   ]
  },
  {
   "cell_type": "code",
   "execution_count": 113,
   "metadata": {},
   "outputs": [],
   "source": [
    "predictions = []\n",
    "\n",
    "for i in range(len(random_sentences)):\n",
    "    # Extract the current line\n",
    "    current_line = random_sentences[i]\n",
    "    \n",
    "    # Determine the number of letters to be generated. This part is up to your task's specifics.\n",
    "    # For example, if you want to generate text of length equal to the current line's length:\n",
    "    # print(current_line)\n",
    "    num_letters = len(current_line)\n",
    "    # print(num_letters)\n",
    "    \n",
    "    # Generate text using the multigram model\n",
    "    generated_text = generate_text(lm, 10, num_letters)  # Adjust if generate_text requires different parameters\n",
    "    \n",
    "    # Append the generated text to the predictions list\n",
    "    predictions.append(generated_text)\n"
   ]
  },
  {
   "cell_type": "code",
   "execution_count": 114,
   "metadata": {},
   "outputs": [
    {
     "data": {
      "text/plain": [
       "100"
      ]
     },
     "execution_count": 114,
     "metadata": {},
     "output_type": "execute_result"
    }
   ],
   "source": [
    "len(predictions)"
   ]
  },
  {
   "cell_type": "code",
   "execution_count": 115,
   "metadata": {},
   "outputs": [
    {
     "data": {
      "text/plain": [
       "100"
      ]
     },
     "execution_count": 115,
     "metadata": {},
     "output_type": "execute_result"
    }
   ],
   "source": [
    "len(random_sentences)"
   ]
  },
  {
   "cell_type": "code",
   "execution_count": 116,
   "metadata": {},
   "outputs": [
    {
     "data": {
      "text/plain": [
       "[\"Dan's parents if there were bears in the beach. She went from\",\n",
       " \"Dan's parents told her there was a tornado was comi\",\n",
       " 'Dan\\'s parent\\'s trust.\"\\n\\n\"Lou was Italian parents. He ',\n",
       " \"Dan's parents sell my dirt bike skid and spilled the air-conditionin\",\n",
       " \"Dan's parents for her causes in other\",\n",
       " \"Dan's parent's divorce.\\n\\nMeg bought a refurbished the nigh\",\n",
       " 'Dan\\'s parents went viral.\\n\\n\"Three kids to school by herself.\"\\n\\nM',\n",
       " \"Dan's parents planned a huge pasta party. When they\",\n",
       " \"Dan's parents said no. I decided to go to his neighbo\",\n",
       " 'Dan\\'s parents.\\n\\n\"Amy wanted to be able to',\n",
       " \"Dan's parents to earn money for a vacation to Las Vegas. Charles\",\n",
       " \"Dan's parents house one day I decided I'd get an apartment. The old \",\n",
       " 'Dan\\'s parents were gone soon.\\n\\n\"The teacher was in so much pie',\n",
       " \"Dan's parents didn't notice that a piece of Basalt he found out \",\n",
       " \"Dan's parents were close to her bed\",\n",
       " \"Dan's parents brought a puppy. There w\",\n",
       " \"Dan's parents took away the food was a fire in 1984. They ha\",\n",
       " \"Dan's parents hadn't paid his children and g\",\n",
       " \"Dan's parents and saw a mailman. I opened my door this moment. He dec\",\n",
       " 'Dan\\'s parents were adopted it.\"\\n\\nDan noticed that no one ',\n",
       " \"Dan's parents would like to take her on a date. Hector \",\n",
       " 'Dan\\'s parents bought her own kids.\"\\n\\nLucy and her family.',\n",
       " \"Dan's parents. Her parents told her mom with a puppy. They repai\",\n",
       " \"Dan's parents admitted what to do. he\",\n",
       " \"Dan's parent's house. After an hour to dry.\",\n",
       " \"Dan's parents were not paying attention. Whenever I watch it when he\",\n",
       " \"Dan's parents was tickets to his f\",\n",
       " \"Dan's parents were wrong! They were on vacation. As he watched into c\",\n",
       " \"Dan's parents wanted to try fixing it. After a while. He \",\n",
       " \"Dan's parents were asking me\",\n",
       " \"Dan's parents were injured under all his worksh\",\n",
       " \"Dan's parents took him \",\n",
       " \"Dan's parents. Page regretted his decision paid off \",\n",
       " 'Dan\\'s parents for a living.\"\\n\\n\"A man was her first baby and w',\n",
       " \"Dan's parents came into his top choice.\\n\\nMy three\",\n",
       " 'Dan\\'s parents was tickets for tonight\\'s concert!\"\\n\\n\"Last',\n",
       " \"Dan's parents even asked a question. The gas hose dangling in the Cat\",\n",
       " \"Dan's parents of a newborn kitte\",\n",
       " \"Dan's parents gave their dog. The dog s\",\n",
       " \"Dan's parents were ready to keep p\",\n",
       " 'Dan\\'s parents found her parents.\\n\\n\"Allison was also frozen s',\n",
       " \"Dan's parents didn't appreciated the rin\",\n",
       " \"Dan's parents eagerly awaiting him to school pe\",\n",
       " \"Dan's parents bought one at a fr\",\n",
       " \"Dan's parents thou\",\n",
       " \"Dan's parents and I love to kayak and drove slowly. She had fi\",\n",
       " \"Dan's parents told him he would pick the music store ne\",\n",
       " \"Dan's parent's house. Her brother.\\n\\nAl\",\n",
       " 'Dan\\'s parents were worth the risk!\\n\\n\"Chase was ',\n",
       " \"Dan's parents what happened Sally was able to sta\",\n",
       " \"Dan's parents decide to take over for dinner. She to\",\n",
       " 'Dan\\'s parents returned.\"\\n\\nI play the role of lead stunt man',\n",
       " \"Dan's parents decided to check the tire for hi\",\n",
       " \"Dan's parents were successful 360 spins.\\n\\nRhonda had been clo\",\n",
       " \"Dan's parent's house. He'd read the weather was so disgusted an\",\n",
       " \"Dan's parents t\",\n",
       " \"Dan's parents to buy. Gloria d\",\n",
       " \"Dan's parents helped me set up an appoint\",\n",
       " \"Dan's parents for months, eventually he got free and went to t\",\n",
       " \"Dan's parents came into the store. She headed to schedule a check-up.\",\n",
       " \"Dan's parents what had happened.\\n\\nSam was l\",\n",
       " \"Dan's parents hired a team\",\n",
       " \"Dan's parents told him that day on.\\n\\nJake \",\n",
       " \"Dan's parents won't stop until late. We drove 80 miles \",\n",
       " \"Dan's parents for one. In the morning. It never bothered\",\n",
       " \"Dan's parents spent all day doing the honey\",\n",
       " \"Dan's parents for Thanksgiving.\",\n",
       " \"Dan's parents were finished with a doctor. Surprised, resta\",\n",
       " \"Dan's parents it was just rig\",\n",
       " \"Dan's parents were so happy that I didn't mean much to her ap\",\n",
       " \"Dan's parents told him the sand got in\",\n",
       " \"Dan's parents bought the prepared and he was having troubl\",\n",
       " \"Dan's parents with a long flight time. John went inside and told him he\",\n",
       " \"Dan's parents were very stubborn than he had \",\n",
       " \"Dan's parents saw she was happy when she got \",\n",
       " \"Dan's parents conceded and had fun. We grill\",\n",
       " 'Dan\\'s parents had coddled her.\"\\n\\nAshleigh gained five',\n",
       " \"Dan's parents were still only had this idea!\\n\\nBill loved taking co\",\n",
       " \"Dan's parents were lifted one leg from th\",\n",
       " \"Dan's parents in the army and the girl for a date. Hecto\",\n",
       " \"Dan's parents made him sad. He always goe\",\n",
       " \"Dan's parents found out\",\n",
       " \"Dan's parents that she might feel\",\n",
       " 'Dan\\'s parents wanted to meet her boyfriend how beautiful to Tim.\"\\n\\n\"',\n",
       " \"Dan's parents told her she had no idea\",\n",
       " 'Dan\\'s parents in Wyoming. Not long after 1 year.\\n\\n\"My famil',\n",
       " 'Dan\\'s parents were going mountain one day!\"\\n\\nYesterd',\n",
       " 'Dan\\'s parents again.\\n\\n\"My f',\n",
       " \"Dan's parents that the girl was some\",\n",
       " 'Dan\\'s parents had told him that the movie.\"\\n\\n\"Bernie claimed the enti',\n",
       " \"Dan's parent's house is spotless! Unfortunately, Tina burnt t\",\n",
       " \"Dan's parents told him he was better at the graffiti in his school\",\n",
       " \"Dan's parents were all extremely upset\",\n",
       " \"Dan's parents to express his new car and prepared breakfast inst\",\n",
       " \"Dan's parents cheered. They decided to face his \",\n",
       " \"Dan's parent's phone. Ivy was so glad he h\",\n",
       " \"Dan's parents accepted a job where he was. Frank \",\n",
       " \"Dan's parents were complication. Samantha \",\n",
       " \"Dan's parents were gone. I looked out their decorate. Sh\",\n",
       " \"Dan's parents weren't worth the wait. They all finished he\"]"
      ]
     },
     "execution_count": 116,
     "metadata": {},
     "output_type": "execute_result"
    }
   ],
   "source": [
    "predictions"
   ]
  },
  {
   "cell_type": "code",
   "execution_count": 117,
   "metadata": {},
   "outputs": [
    {
     "data": {
      "text/plain": [
       "['The DJ appreciated the enthusiasm so much he played the song.',\n",
       " 'Disgusted, he got up and quickly brushed his teeth.',\n",
       " 'Julia was both in shock and happy with her new style.',\n",
       " 'Now he is an advocate for all his friends to get their eyes checked.',\n",
       " 'John is hoping this is his big break!',\n",
       " 'Amy left the class without thinking of Ray again that day.',\n",
       " 'Luckily, when the results were posted he saw that he had passed.',\n",
       " \"Dad found Jason with a 100' of VHS tape in his lap.\",\n",
       " 'Neighbors now help Doris take care of her flower bed.',\n",
       " 'Now I save a lot of money and am insured!',\n",
       " 'Cassie switched bras, and her shirts began to fit her just fine.',\n",
       " 'John surprised Brittany with a carnation and it made her very happy.',\n",
       " 'James now has achieved his life long dream of flying a rocket.',\n",
       " 'Skye and her friends chased him, then resumed trick-or-treating.',\n",
       " 'She vowed never to touch rum again!',\n",
       " 'Allison and Bobo are now best friends!',\n",
       " 'Maya decides that she should never have lived without steak.',\n",
       " 'Luckily, there were plenty of other cookies.',\n",
       " 'Amy was relieved when lunch ended and she no longer had to play nice.',\n",
       " 'Brent suddenly felt a lot better about taking this class.',\n",
       " 'Amy just wanted the weather to stay at one temperature.',\n",
       " \"Unfortunately Sam couldn't keep paying to build the pool.\",\n",
       " 'However, my teacher gave me full credit while she received an F.',\n",
       " 'I then ran to the bathroom and cried.',\n",
       " 'But to her surprise, it was a lovely photo!',\n",
       " 'Luckily, one of the custodians fished it out and returned it to her.',\n",
       " 'I was happy about the new project.',\n",
       " 'She hugged her mom when Mrs Molly was fixed because she was so happy.',\n",
       " 'After that, they never put firecrackers on a bench again.',\n",
       " 'Dalton got sick on the ride.',\n",
       " 'Soon he had a homemade new pair of jean shorts!',\n",
       " 'I cried in frustration.',\n",
       " 'Linday now uses protective shampoo to save her hair.',\n",
       " \"She said Dad would choose to play golf but I didn't think so.\",\n",
       " 'But she had wondered where Bill had been all day!',\n",
       " 'The principal sent a substitute to help teach the class.',\n",
       " 'Ann quickly began writing down many presents resulting in a big list.',\n",
       " 'She learned to protect her work.',\n",
       " 'Thankfully, my friend wrote the letter.',\n",
       " 'But when she returned it was gone.',\n",
       " 'She picks the job with the best offer, and starts on Monday!',\n",
       " 'They called the restaurant to tell them.',\n",
       " 'Luckily, he managed to stay seated on the raft.',\n",
       " 'He decided to give up on a tree.',\n",
       " 'It was very yummy!',\n",
       " 'I made it to the top but started getting scared, so I stopped.',\n",
       " 'It took 30 minutes to move enough snow to park the car.',\n",
       " \"Now, I didn't have to rake the leaves.\",\n",
       " 'Alfred was grounded for lying and doing poorly.',\n",
       " \"Anna's cheek sustained a scratch in the accident.\",\n",
       " 'The road was washed away and took the truck with it.',\n",
       " 'It was a Dr Who marathon, and she was sad when it was over.',\n",
       " 'Ed decided to head back before he became lost.',\n",
       " 'At the last moment Gina was able to regain control of the car',\n",
       " 'The chef decided to make due with duck, and the meal was a hit.',\n",
       " 'I ate my lunch.',\n",
       " 'It was worth the anticipation.',\n",
       " 'Unfortunately, they were unable to do so.',\n",
       " 'From then on, Jon committed to becoming a more ethical person.',\n",
       " 'Spaghetti squash turned out to be the best discovery he had ever had!',\n",
       " 'She had to return the hamster to the store.',\n",
       " 'And Sam apologized to Don.',\n",
       " 'He is grateful to his father for his help.',\n",
       " \"Jake became thankful for all he's done in his twenties.\",\n",
       " 'Within 10 minutes, she had the mouse on her mouth, dead.',\n",
       " 'We bought a newer, faster camera this week.',\n",
       " 'He now gets paid to write them.',\n",
       " 'They got out of their seats in order to avoid being burned.',\n",
       " 'Gina wanted one just like it.',\n",
       " \"Fabian couldn't replicate the same results and lost the game.\",\n",
       " 'Only then would I go back in her room.',\n",
       " 'When he is finally finished, he is proud of his good work.',\n",
       " 'Ella got a kiss from Mama after being hit by the grape-hoarding fridge.',\n",
       " 'She was humbled, and never got surgery again.',\n",
       " 'After they get tired, they will nap together.',\n",
       " 'With a heavy heart Lucy turned to go to bed.',\n",
       " 'She could no longer drive with her ruined windshield.',\n",
       " 'When Michael returned home, he promised to take another trip soon.',\n",
       " \"Jessie's mother did not answer the phone.\",\n",
       " 'As such, he will probably continue doing it for a while.',\n",
       " \"James couldn't wait to go sledding again!\",\n",
       " 'The teacher failed him.',\n",
       " 'He ended up being hired at FedEx.',\n",
       " 'He started walking, and tripped, spilling punch all over his friend.',\n",
       " 'They had a wonderful time at the prom.',\n",
       " 'My girlfriend will be getting a fat boyfriend as a present.',\n",
       " 'The same can be said for a lot of television though.',\n",
       " 'They spent an hour talking.',\n",
       " \"Anna's class loved her Irish donuts!\",\n",
       " 'Eventually, I found his weakness and beat him during the first round.',\n",
       " 'He let the fish go, hoping his kindness would bring him luck.',\n",
       " \"Unfortunately, the tickets were fakes and the boys couldn't go in.\",\n",
       " 'I will keep posting it until it sells.',\n",
       " 'Knowing the baby was safe, Paula finally enjoyed an evening out.',\n",
       " 'I was angry so the airline gave me a free lunch.',\n",
       " 'I immediately fell asleep when I got home.',\n",
       " 'Carson is so happy he left his job in television.',\n",
       " 'Anne had made a lovely wildflower bouquet!',\n",
       " 'Michael was so happy that he had a furry friend at home.',\n",
       " \"Dina's daughter decided that she liked her hair after all.\"]"
      ]
     },
     "execution_count": 117,
     "metadata": {},
     "output_type": "execute_result"
    }
   ],
   "source": [
    "random_sentences"
   ]
  },
  {
   "cell_type": "code",
   "execution_count": 118,
   "metadata": {},
   "outputs": [],
   "source": [
    "results_bert = bertscore.compute(predictions=predictions, references=random_sentences, lang=\"en\")"
   ]
  },
  {
   "cell_type": "code",
   "execution_count": 119,
   "metadata": {},
   "outputs": [
    {
     "data": {
      "text/plain": [
       "{'precision': [0.8503642678260803,\n",
       "  0.8422554731369019,\n",
       "  0.8366479873657227,\n",
       "  0.8098124861717224,\n",
       "  0.8302710652351379,\n",
       "  0.8242311477661133,\n",
       "  0.8318902850151062,\n",
       "  0.8638921976089478,\n",
       "  0.8607701659202576,\n",
       "  0.8463727831840515,\n",
       "  0.8503743410110474,\n",
       "  0.8462571501731873,\n",
       "  0.8444008231163025,\n",
       "  0.8268052935600281,\n",
       "  0.8503530025482178,\n",
       "  0.8631380200386047,\n",
       "  0.8471012711524963,\n",
       "  0.8181440234184265,\n",
       "  0.841023325920105,\n",
       "  0.8206250071525574,\n",
       "  0.8769026398658752,\n",
       "  0.8395283222198486,\n",
       "  0.8560234904289246,\n",
       "  0.8770163059234619,\n",
       "  0.8569288849830627,\n",
       "  0.8509084582328796,\n",
       "  0.8368858695030212,\n",
       "  0.8438241481781006,\n",
       "  0.8737807869911194,\n",
       "  0.853492259979248,\n",
       "  0.816209077835083,\n",
       "  0.8475600481033325,\n",
       "  0.8605552911758423,\n",
       "  0.8333156704902649,\n",
       "  0.8295606970787048,\n",
       "  0.8186219334602356,\n",
       "  0.8656216859817505,\n",
       "  0.8192716836929321,\n",
       "  0.8704106211662292,\n",
       "  0.8208596110343933,\n",
       "  0.8325019478797913,\n",
       "  0.8307416439056396,\n",
       "  0.8315919041633606,\n",
       "  0.8455209136009216,\n",
       "  0.8323401212692261,\n",
       "  0.8553425669670105,\n",
       "  0.8424212336540222,\n",
       "  0.8449544906616211,\n",
       "  0.832740306854248,\n",
       "  0.8319610357284546,\n",
       "  0.8475633859634399,\n",
       "  0.8409134745597839,\n",
       "  0.8590371608734131,\n",
       "  0.8390873670578003,\n",
       "  0.8299100399017334,\n",
       "  0.8430176377296448,\n",
       "  0.8468201756477356,\n",
       "  0.8385655283927917,\n",
       "  0.8424176573753357,\n",
       "  0.8733998537063599,\n",
       "  0.8457791209220886,\n",
       "  0.8501415848731995,\n",
       "  0.8534488081932068,\n",
       "  0.8455336689949036,\n",
       "  0.8567173480987549,\n",
       "  0.8473387956619263,\n",
       "  0.8577183485031128,\n",
       "  0.853243887424469,\n",
       "  0.8307688236236572,\n",
       "  0.8416645526885986,\n",
       "  0.8352558016777039,\n",
       "  0.8463019132614136,\n",
       "  0.8504311442375183,\n",
       "  0.8428975343704224,\n",
       "  0.8371928334236145,\n",
       "  0.8589373826980591,\n",
       "  0.840465784072876,\n",
       "  0.8191282153129578,\n",
       "  0.8479435443878174,\n",
       "  0.8502819538116455,\n",
       "  0.8622720241546631,\n",
       "  0.8617415428161621,\n",
       "  0.8259088397026062,\n",
       "  0.8294578194618225,\n",
       "  0.8594673871994019,\n",
       "  0.8373981714248657,\n",
       "  0.7957656383514404,\n",
       "  0.8425180912017822,\n",
       "  0.8307510614395142,\n",
       "  0.8297130465507507,\n",
       "  0.8381301760673523,\n",
       "  0.8531073927879333,\n",
       "  0.8388164639472961,\n",
       "  0.8180627226829529,\n",
       "  0.8765655159950256,\n",
       "  0.8337128758430481,\n",
       "  0.8814841508865356,\n",
       "  0.8700652122497559,\n",
       "  0.83895343542099,\n",
       "  0.8822548389434814],\n",
       " 'recall': [0.8490833044052124,\n",
       "  0.8342254161834717,\n",
       "  0.8496509790420532,\n",
       "  0.8309811353683472,\n",
       "  0.8205932378768921,\n",
       "  0.8389456272125244,\n",
       "  0.8482163548469543,\n",
       "  0.8606703281402588,\n",
       "  0.8605890870094299,\n",
       "  0.8495926260948181,\n",
       "  0.8498021364212036,\n",
       "  0.8582191467285156,\n",
       "  0.8587753772735596,\n",
       "  0.8443336486816406,\n",
       "  0.8560976982116699,\n",
       "  0.8540907502174377,\n",
       "  0.8485346436500549,\n",
       "  0.8559324145317078,\n",
       "  0.8347554206848145,\n",
       "  0.8513546586036682,\n",
       "  0.8713345527648926,\n",
       "  0.8606399893760681,\n",
       "  0.8494638204574585,\n",
       "  0.8602234125137329,\n",
       "  0.8428171873092651,\n",
       "  0.8590357303619385,\n",
       "  0.8734219074249268,\n",
       "  0.8543094396591187,\n",
       "  0.859156608581543,\n",
       "  0.8779977560043335,\n",
       "  0.8400434851646423,\n",
       "  0.8855656981468201,\n",
       "  0.847333550453186,\n",
       "  0.8388557434082031,\n",
       "  0.8193357586860657,\n",
       "  0.8664819002151489,\n",
       "  0.8727850317955017,\n",
       "  0.8664335608482361,\n",
       "  0.897639811038971,\n",
       "  0.8601586818695068,\n",
       "  0.83127361536026,\n",
       "  0.8724291920661926,\n",
       "  0.8486975431442261,\n",
       "  0.8817758560180664,\n",
       "  0.8157110810279846,\n",
       "  0.86922287940979,\n",
       "  0.8499046564102173,\n",
       "  0.8432754874229431,\n",
       "  0.8621952533721924,\n",
       "  0.8968772888183594,\n",
       "  0.8439311385154724,\n",
       "  0.8559703826904297,\n",
       "  0.8831138610839844,\n",
       "  0.8457781672477722,\n",
       "  0.851417064666748,\n",
       "  0.8744297027587891,\n",
       "  0.8618031740188599,\n",
       "  0.8510012626647949,\n",
       "  0.8592000007629395,\n",
       "  0.8392075896263123,\n",
       "  0.8594948649406433,\n",
       "  0.8727213740348816,\n",
       "  0.8735888600349426,\n",
       "  0.8555566072463989,\n",
       "  0.8432829976081848,\n",
       "  0.8710817098617554,\n",
       "  0.8580191731452942,\n",
       "  0.8599246740341187,\n",
       "  0.8485314846038818,\n",
       "  0.8696981072425842,\n",
       "  0.8562686443328857,\n",
       "  0.8618272542953491,\n",
       "  0.8411933183670044,\n",
       "  0.8732842206954956,\n",
       "  0.8576605916023254,\n",
       "  0.8266561627388,\n",
       "  0.8612803220748901,\n",
       "  0.8372811079025269,\n",
       "  0.8996260166168213,\n",
       "  0.8505584597587585,\n",
       "  0.8413243293762207,\n",
       "  0.8919901847839355,\n",
       "  0.8575642108917236,\n",
       "  0.8558819890022278,\n",
       "  0.8836938738822937,\n",
       "  0.8506062626838684,\n",
       "  0.8243540525436401,\n",
       "  0.8709437251091003,\n",
       "  0.8408588171005249,\n",
       "  0.8601198792457581,\n",
       "  0.8510523438453674,\n",
       "  0.8541503548622131,\n",
       "  0.8626458644866943,\n",
       "  0.8362088203430176,\n",
       "  0.87740558385849,\n",
       "  0.8558562397956848,\n",
       "  0.8876957893371582,\n",
       "  0.8440238237380981,\n",
       "  0.8651189804077148,\n",
       "  0.8639613389968872],\n",
       " 'f1': [0.8497232794761658,\n",
       "  0.8382212519645691,\n",
       "  0.8430993556976318,\n",
       "  0.8202602863311768,\n",
       "  0.8254037499427795,\n",
       "  0.8315232992172241,\n",
       "  0.839974045753479,\n",
       "  0.8622782826423645,\n",
       "  0.860679566860199,\n",
       "  0.8479796648025513,\n",
       "  0.8500881195068359,\n",
       "  0.8521960973739624,\n",
       "  0.8515273928642273,\n",
       "  0.8354775309562683,\n",
       "  0.8532156944274902,\n",
       "  0.8585905432701111,\n",
       "  0.8478173613548279,\n",
       "  0.8366117477416992,\n",
       "  0.837877631187439,\n",
       "  0.835707426071167,\n",
       "  0.8741097450256348,\n",
       "  0.8499529957771301,\n",
       "  0.8527310490608215,\n",
       "  0.8685386776924133,\n",
       "  0.8498144149780273,\n",
       "  0.8549527525901794,\n",
       "  0.8547636270523071,\n",
       "  0.8490344285964966,\n",
       "  0.866407036781311,\n",
       "  0.8655716180801392,\n",
       "  0.8279547691345215,\n",
       "  0.8661462068557739,\n",
       "  0.8538932204246521,\n",
       "  0.836076557636261,\n",
       "  0.8244165182113647,\n",
       "  0.8418722152709961,\n",
       "  0.8691886067390442,\n",
       "  0.8421928882598877,\n",
       "  0.8838155269622803,\n",
       "  0.8400497436523438,\n",
       "  0.8318873643875122,\n",
       "  0.851075291633606,\n",
       "  0.8400576114654541,\n",
       "  0.8632678985595703,\n",
       "  0.8239416480064392,\n",
       "  0.8622267842292786,\n",
       "  0.8461464047431946,\n",
       "  0.8441141247749329,\n",
       "  0.8472118377685547,\n",
       "  0.8632003664970398,\n",
       "  0.8457433581352234,\n",
       "  0.8483750820159912,\n",
       "  0.8709091544151306,\n",
       "  0.8424195051193237,\n",
       "  0.8405260443687439,\n",
       "  0.8584364652633667,\n",
       "  0.8542459011077881,\n",
       "  0.8447375893592834,\n",
       "  0.8507260084152222,\n",
       "  0.8559624552726746,\n",
       "  0.8525818586349487,\n",
       "  0.861283540725708,\n",
       "  0.8634014129638672,\n",
       "  0.8505155444145203,\n",
       "  0.8499470949172974,\n",
       "  0.859046220779419,\n",
       "  0.8578687310218811,\n",
       "  0.8565712571144104,\n",
       "  0.8395562171936035,\n",
       "  0.855451762676239,\n",
       "  0.8456316590309143,\n",
       "  0.8539940118789673,\n",
       "  0.845786988735199,\n",
       "  0.8578218817710876,\n",
       "  0.8473030924797058,\n",
       "  0.842487633228302,\n",
       "  0.8507457971572876,\n",
       "  0.8281052708625793,\n",
       "  0.8730205297470093,\n",
       "  0.8504201769828796,\n",
       "  0.851669430732727,\n",
       "  0.8766050338745117,\n",
       "  0.8414388298988342,\n",
       "  0.8424627780914307,\n",
       "  0.8714122772216797,\n",
       "  0.8439505100250244,\n",
       "  0.8098075985908508,\n",
       "  0.8564951419830322,\n",
       "  0.8357744216918945,\n",
       "  0.8446428775787354,\n",
       "  0.8445418477058411,\n",
       "  0.8536285758018494,\n",
       "  0.8505643606185913,\n",
       "  0.8270362019538879,\n",
       "  0.8769853115081787,\n",
       "  0.8446394205093384,\n",
       "  0.884579062461853,\n",
       "  0.8568466901779175,\n",
       "  0.851835310459137,\n",
       "  0.8730123043060303],\n",
       " 'hashcode': 'roberta-large_L17_no-idf_version=0.3.12(hug_trans=4.38.2)'}"
      ]
     },
     "execution_count": 119,
     "metadata": {},
     "output_type": "execute_result"
    }
   ],
   "source": [
    "results_bert"
   ]
  },
  {
   "cell_type": "code",
   "execution_count": 120,
   "metadata": {},
   "outputs": [],
   "source": [
    "# Calculates the BLEU score for the random selection model\n",
    "bleu = load(\"bleu\")\n",
    "results_bleu = bleu.compute(predictions=predictions, references=random_sentences)"
   ]
  },
  {
   "cell_type": "code",
   "execution_count": 121,
   "metadata": {},
   "outputs": [
    {
     "data": {
      "text/plain": [
       "{'bleu': 0.0,\n",
       " 'precisions': [0.09840954274353876, 0.002207505518763797, 0.0, 0.0],\n",
       " 'brevity_penalty': 0.9281585737605184,\n",
       " 'length_ratio': 0.9306197964847364,\n",
       " 'translation_length': 1006,\n",
       " 'reference_length': 1081}"
      ]
     },
     "execution_count": 121,
     "metadata": {},
     "output_type": "execute_result"
    }
   ],
   "source": [
    "results_bleu"
   ]
  },
  {
   "cell_type": "code",
   "execution_count": 123,
   "metadata": {},
   "outputs": [
    {
     "name": "stderr",
     "output_type": "stream",
     "text": [
      "[nltk_data] Downloading package wordnet to /Users/divyams/nltk_data...\n",
      "[nltk_data]   Package wordnet is already up-to-date!\n",
      "[nltk_data] Downloading package punkt to /Users/divyams/nltk_data...\n",
      "[nltk_data]   Package punkt is already up-to-date!\n",
      "[nltk_data] Downloading package omw-1.4 to /Users/divyams/nltk_data...\n",
      "[nltk_data]   Package omw-1.4 is already up-to-date!\n"
     ]
    }
   ],
   "source": [
    "# Calculates the METEOR score for the random selection model\n",
    "meteor = load('meteor')\n",
    "results_met = meteor.compute(predictions=predictions, references=random_sentences)"
   ]
  },
  {
   "cell_type": "code",
   "execution_count": null,
   "metadata": {},
   "outputs": [],
   "source": [
    "results_met"
   ]
  },
  {
   "cell_type": "code",
   "execution_count": 126,
   "metadata": {},
   "outputs": [],
   "source": [
    "# pip install rouge_score"
   ]
  },
  {
   "cell_type": "code",
   "execution_count": 127,
   "metadata": {},
   "outputs": [
    {
     "data": {
      "text/plain": [
       "{'rouge1': 0.053738827752923046,\n",
       " 'rouge2': 0.0020855614973262033,\n",
       " 'rougeL': 0.05001561050650466,\n",
       " 'rougeLsum': 0.04996879069791861}"
      ]
     },
     "execution_count": 127,
     "metadata": {},
     "output_type": "execute_result"
    }
   ],
   "source": [
    "rouge = load('rouge')\n",
    "results_rouge = rouge.compute(predictions=predictions, references=random_sentences)\n",
    "# The ROUGE score results using the random selection model\n",
    "results_rouge\n"
   ]
  },
  {
   "cell_type": "code",
   "execution_count": 128,
   "metadata": {},
   "outputs": [
    {
     "data": {
      "application/vnd.jupyter.widget-view+json": {
       "model_id": "dc6f72f081bc4a199f6be1a619eaa683",
       "version_major": 2,
       "version_minor": 0
      },
      "text/plain": [
       "Downloading builder script:   0%|          | 0.00/8.46k [00:00<?, ?B/s]"
      ]
     },
     "metadata": {},
     "output_type": "display_data"
    },
    {
     "data": {
      "application/vnd.jupyter.widget-view+json": {
       "model_id": "1b40b6782bca434eb6b5ddcfe7462337",
       "version_major": 2,
       "version_minor": 0
      },
      "text/plain": [
       "config.json:   0%|          | 0.00/665 [00:00<?, ?B/s]"
      ]
     },
     "metadata": {},
     "output_type": "display_data"
    },
    {
     "data": {
      "application/vnd.jupyter.widget-view+json": {
       "model_id": "a77a59f07911450e86962bcbdb0d244f",
       "version_major": 2,
       "version_minor": 0
      },
      "text/plain": [
       "model.safetensors:   0%|          | 0.00/548M [00:00<?, ?B/s]"
      ]
     },
     "metadata": {},
     "output_type": "display_data"
    },
    {
     "data": {
      "application/vnd.jupyter.widget-view+json": {
       "model_id": "cdba6b6623e04ac8a8a77f9c7722f381",
       "version_major": 2,
       "version_minor": 0
      },
      "text/plain": [
       "generation_config.json:   0%|          | 0.00/124 [00:00<?, ?B/s]"
      ]
     },
     "metadata": {},
     "output_type": "display_data"
    },
    {
     "data": {
      "application/vnd.jupyter.widget-view+json": {
       "model_id": "1d26277f925848dbbf04c82ab592ccaf",
       "version_major": 2,
       "version_minor": 0
      },
      "text/plain": [
       "tokenizer_config.json:   0%|          | 0.00/26.0 [00:00<?, ?B/s]"
      ]
     },
     "metadata": {},
     "output_type": "display_data"
    },
    {
     "data": {
      "application/vnd.jupyter.widget-view+json": {
       "model_id": "79eb7ff7976e4e7aad3a87a46c1c83e0",
       "version_major": 2,
       "version_minor": 0
      },
      "text/plain": [
       "vocab.json:   0%|          | 0.00/1.04M [00:00<?, ?B/s]"
      ]
     },
     "metadata": {},
     "output_type": "display_data"
    },
    {
     "data": {
      "application/vnd.jupyter.widget-view+json": {
       "model_id": "237f13e549c44844bce152d45ee0df44",
       "version_major": 2,
       "version_minor": 0
      },
      "text/plain": [
       "merges.txt:   0%|          | 0.00/456k [00:00<?, ?B/s]"
      ]
     },
     "metadata": {},
     "output_type": "display_data"
    },
    {
     "data": {
      "application/vnd.jupyter.widget-view+json": {
       "model_id": "0de8e0b7b84f42b4b1c8c604ae9c2e65",
       "version_major": 2,
       "version_minor": 0
      },
      "text/plain": [
       "tokenizer.json:   0%|          | 0.00/1.36M [00:00<?, ?B/s]"
      ]
     },
     "metadata": {},
     "output_type": "display_data"
    },
    {
     "data": {
      "application/vnd.jupyter.widget-view+json": {
       "model_id": "af6ac5a3f6df465bb10abc150fd60a78",
       "version_major": 2,
       "version_minor": 0
      },
      "text/plain": [
       "  0%|          | 0/7 [00:00<?, ?it/s]"
      ]
     },
     "metadata": {},
     "output_type": "display_data"
    },
    {
     "data": {
      "text/plain": [
       "{'perplexities': [256.490478515625,\n",
       "  333.8858337402344,\n",
       "  386.294189453125,\n",
       "  600.8056640625,\n",
       "  880.5797729492188,\n",
       "  243.31643676757812,\n",
       "  103.27037811279297,\n",
       "  182.84104919433594,\n",
       "  146.325927734375,\n",
       "  51.37561798095703,\n",
       "  119.28215789794922,\n",
       "  186.78843688964844,\n",
       "  150.89675903320312,\n",
       "  259.5313415527344,\n",
       "  253.90679931640625,\n",
       "  648.8135375976562,\n",
       "  357.4811706542969,\n",
       "  325.3968811035156,\n",
       "  297.6617126464844,\n",
       "  237.60568237304688,\n",
       "  165.904541015625,\n",
       "  165.25418090820312,\n",
       "  291.7914123535156,\n",
       "  411.1168518066406,\n",
       "  196.31112670898438,\n",
       "  129.31173706054688,\n",
       "  1275.345458984375,\n",
       "  189.2100830078125,\n",
       "  167.20565795898438,\n",
       "  288.1860046386719,\n",
       "  820.6649780273438,\n",
       "  918.371337890625,\n",
       "  1485.72900390625,\n",
       "  183.1670684814453,\n",
       "  187.20440673828125,\n",
       "  257.7385559082031,\n",
       "  444.8812561035156,\n",
       "  799.953125,\n",
       "  276.9836730957031,\n",
       "  312.4973449707031,\n",
       "  265.4933166503906,\n",
       "  686.7530517578125,\n",
       "  915.882080078125,\n",
       "  375.3231201171875,\n",
       "  11462.9482421875,\n",
       "  378.7496032714844,\n",
       "  341.736572265625,\n",
       "  144.98326110839844,\n",
       "  152.40707397460938,\n",
       "  879.2941284179688,\n",
       "  208.5050811767578,\n",
       "  193.9012908935547,\n",
       "  447.3360595703125,\n",
       "  434.2406311035156,\n",
       "  572.077880859375,\n",
       "  2073.217529296875,\n",
       "  1515.765869140625,\n",
       "  382.3226013183594,\n",
       "  267.3125305175781,\n",
       "  83.58856201171875,\n",
       "  167.972900390625,\n",
       "  293.1380310058594,\n",
       "  225.83099365234375,\n",
       "  351.7092590332031,\n",
       "  179.0435791015625,\n",
       "  247.49696350097656,\n",
       "  577.5919189453125,\n",
       "  299.7162170410156,\n",
       "  1334.6514892578125,\n",
       "  156.17091369628906,\n",
       "  217.7801971435547,\n",
       "  846.1369018554688,\n",
       "  169.92422485351562,\n",
       "  700.6524658203125,\n",
       "  329.4904479980469,\n",
       "  1025.859130859375,\n",
       "  193.84915161132812,\n",
       "  440.9330139160156,\n",
       "  867.8259887695312,\n",
       "  273.8667907714844,\n",
       "  345.7409362792969,\n",
       "  257.04827880859375,\n",
       "  610.4678344726562,\n",
       "  319.3878173828125,\n",
       "  59.89555358886719,\n",
       "  179.91592407226562,\n",
       "  510.3147888183594,\n",
       "  169.28201293945312,\n",
       "  371.63775634765625,\n",
       "  241.6683807373047,\n",
       "  507.5448913574219,\n",
       "  130.5024871826172,\n",
       "  172.26885986328125,\n",
       "  1262.236328125,\n",
       "  434.6207580566406,\n",
       "  627.5264282226562,\n",
       "  524.1767578125,\n",
       "  3911.9208984375,\n",
       "  332.0536193847656,\n",
       "  198.6713104248047],\n",
       " 'mean_perplexity': 568.3773831939698}"
      ]
     },
     "execution_count": 128,
     "metadata": {},
     "output_type": "execute_result"
    }
   ],
   "source": [
    "# Calculates the Perplexity score for the predictions from the random selection model\n",
    "perplexity = load(\"perplexity\", module_type=\"metric\")\n",
    "results_perplexity = perplexity.compute(predictions=predictions, model_id='gpt2')\n",
    "# The Perplexity score results using the predictions from the random selection model\n",
    "results_perplexity"
   ]
  },
  {
   "cell_type": "code",
   "execution_count": null,
   "metadata": {},
   "outputs": [],
   "source": []
  }
 ],
 "metadata": {
  "kernelspec": {
   "display_name": "Python 3 (ipykernel)",
   "language": "python",
   "name": "python3"
  },
  "language_info": {
   "codemirror_mode": {
    "name": "ipython",
    "version": 3
   },
   "file_extension": ".py",
   "mimetype": "text/x-python",
   "name": "python",
   "nbconvert_exporter": "python",
   "pygments_lexer": "ipython3",
   "version": "3.9.6"
  }
 },
 "nbformat": 4,
 "nbformat_minor": 4
}
