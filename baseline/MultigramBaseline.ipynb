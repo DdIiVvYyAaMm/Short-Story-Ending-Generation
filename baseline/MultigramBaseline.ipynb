{
 "cells": [
  {
   "cell_type": "markdown",
   "metadata": {},
   "source": [
    "# Character-level Language Models\n",
    "\n",
    "### [Derived from a blog post by Yoav Goldberg](https://nbviewer.jupyter.org/gist/yoavg/d76121dfde2618422139)"
   ]
  },
  {
   "cell_type": "markdown",
   "metadata": {},
   "source": [
    "## Unsmoothed Maximum Likelihood Character Level Language Model \n",
    "\n",
    "\n"
   ]
  },
  {
   "cell_type": "markdown",
   "metadata": {},
   "source": [
    "### Training Code\n",
    "Here is the code for training the model. `fname` is a file to read the characters from. `order` is the history size to consult (i.e., the $n$ in your $n$-gram). Note that we pad the data with leading `~` so that we also learn how to start (this is your `<START>` symbol in most language model notation.\n"
   ]
  },
  {
   "cell_type": "code",
   "execution_count": 1,
   "metadata": {},
   "outputs": [],
   "source": [
    "import pandas as pd\n",
    "import csv\n",
    "import random\n",
    "from collections import *\n",
    "import numpy as np\n",
    "\n",
    "random.seed(630)"
   ]
  },
  {
   "cell_type": "code",
   "execution_count": 2,
   "metadata": {},
   "outputs": [],
   "source": [
    "def train_char_lm(fname, order=4):\n",
    "    with open(fname) as f:\n",
    "        data = '\\n'.join(f.readlines())\n",
    "    lm = defaultdict(Counter)\n",
    "    pad = \"~\" * order\n",
    "    data = pad + data\n",
    "    for i in range(len(data)-order):\n",
    "        history, char = data[i:i+order], data[i+order]\n",
    "        lm[history][char]+=1\n",
    "    def normalize(counter):\n",
    "        s = float(sum(counter.values()))\n",
    "        return [(c,cnt/s) for c,cnt in counter.items()]\n",
    "\n",
    "    outlm = {hist:normalize(chars) for hist, chars in lm.items()}\n",
    "    return outlm"
   ]
  },
  {
   "cell_type": "code",
   "execution_count": 3,
   "metadata": {},
   "outputs": [],
   "source": [
    "df = pd.read_csv('../data/ROCStories.csv')"
   ]
  },
  {
   "cell_type": "code",
   "execution_count": 4,
   "metadata": {},
   "outputs": [],
   "source": [
    "df = df.drop(columns=['storyid', 'storytitle'])"
   ]
  },
  {
   "cell_type": "code",
   "execution_count": 5,
   "metadata": {},
   "outputs": [],
   "source": [
    "df['text'] = df.apply(lambda row: ' '.join(row.values.astype(str)), axis=1)"
   ]
  },
  {
   "cell_type": "code",
   "execution_count": 6,
   "metadata": {},
   "outputs": [],
   "source": [
    "df['text'].to_csv('../data/ROCstories.txt', index=False, header=False)"
   ]
  },
  {
   "cell_type": "code",
   "execution_count": 7,
   "metadata": {},
   "outputs": [],
   "source": [
    "def read_random_sentences(file_path, n=10):\n",
    "    \"\"\"\n",
    "    Reads the fifth sentence from n random lines in a CSV file.\n",
    "\n",
    "    Parameters:\n",
    "    - file_path: Path to the CSV file.\n",
    "    - n: Number of random lines to read.\n",
    "\n",
    "    Returns:\n",
    "    - A list containing the fifth sentence from n random lines of the file.\n",
    "    \"\"\"\n",
    "    # Initialize an empty list to hold the fifth sentences\n",
    "    sentences = []\n",
    "\n",
    "    try:\n",
    "        # Open the file and create a csv.reader object\n",
    "        with open(file_path, 'r', newline='', encoding='utf-8') as file:\n",
    "            reader = csv.DictReader(file)\n",
    "            rows = list(reader)  # Convert iterator to list to get total count and allow random access\n",
    "            \n",
    "            total_lines = len(rows)  # Get the total number of lines in the file\n",
    "            \n",
    "            # Ensure we don't try to sample more lines than exist in the file\n",
    "            n = min(n, total_lines)\n",
    "            \n",
    "            # Generate n unique random indices\n",
    "            random_indices = random.sample(range(total_lines), n)\n",
    "            \n",
    "            # Retrieve and store the fifth sentence from each randomly selected line\n",
    "            for index in random_indices:\n",
    "                sentences.append(rows[index]['sentence5'])  # Access by column name\n",
    "\n",
    "    except FileNotFoundError:\n",
    "        print(f\"File not found: {file_path}\")\n",
    "    except Exception as e:\n",
    "        print(f\"An error occurred: {e}\")\n",
    "\n",
    "    return sentences\n"
   ]
  },
  {
   "cell_type": "code",
   "execution_count": 8,
   "metadata": {},
   "outputs": [
    {
     "name": "stdout",
     "output_type": "stream",
     "text": [
      "['Five hours later they went home exhausted and happy.', 'When she gave him the red race car he was so surprised.', 'She would have to wait days to see it!', 'She agreed to pay Angela $5 for the ball.', 'After marrying Julio, Michelle stopped buying breakfast burritos.', 'Thankfully the next day she felt better.', 'His dog chased away at the squirrel afterwards.', 'When they were done, they got dinner.', 'He was so loud that day that nobody enjoyed the conversation.', 'The little girl went to look at it and found a huge crack.', 'She scheduled Tim in for an appointment the next day.', 'They got a loan and used it to go on vacation.', 'Now Bob can move his boxes without hurting his back.', 'Tom made money from the insurance.', 'Luckily I did not get an infection.', 'When they got home he named him pokey.', 'His father caught him and grounded him for two weeks.', 'His card had no balance in it.', 'She started choking on her first drag and had to go home early.', 'Finally the drought emergency was over!', 'But within a week, his bike was stolen.', 'A few weeks later Sally was cooking in a kitchen that she loves.', \"I was severely disappointed when I found out the drawers weren't real.\", 'And he was shocked to see his name on the list - as quarterback!', 'She said the effort made her as happy as anything.', 'She wiped what sand there was on her face, and left the bathroom.', 'Just as he had done when saying hello, Jason cried saying goodbye.', 'Instead of a ticket, Judy felt the seam of her pocket ripped through.', \"I don't date liar, so we broke up, and I never heard from him again.\", 'Kobe Bryant is now considered one of the best ever.', 'It lasted only two days before she ate candy again.', 'He bought it and trashed his old one.', 'On his way home someone stepped on his shoes with mud on their feet.', 'They told her they would send her a new toy.', 'Sam realized that he was much happier afterwards.', 'Jo loved the fried salami.', 'There, they gave her a shot to help reduce the swelling.', 'Jim gave up and got out of bed.', \"Unfortunately he wasn't able to and messed his pants.\", 'The search took her mind off of her grandma.', 'He will be on the same team as his brother.', 'I thoroughly enjoyed the class discussion.', 'Stephen worked for 12 hours a day every day working on his craft.', 'His flowers were a lot more healthy without so many slugs around.', \"THey hadn't left the country in years!\", 'Joy discovered Bill was having an affair.', 'But all she could do with it was to make rags out of it.', 'Janice fell in love with a fluffy cat and took him home that day.', \"A wealthy passerby saw the man's work and bought it for a large sum.\", 'Luckily her teacher said yes.', 'She told him she would give it back next week.', 'He looked forward to attending college in the fall.', \"Today I don't like anyone controlling me and I'm afraid of doctors.\", 'I fell asleep in that awkward position.', \"Adam didn't know what he'd be doing without it.\", 'Now that fall is here, Lisa is ready for the cold weather.', \"Tim's hours were cut back down and he was warned about it.\", 'I also sent a photo to the store but got no response.', 'His mother-in-law was offended and said no.', 'He became relaxed and was able to enjoy the festival.', 'She got paid really well for the job.', 'Rita and Mike decided to get a puppy for Jim.', 'Afterward, he decided baloney must mean gross because it tasted nasty.', 'Her family and husband were thrilled.', \"Nancy went to put the turkey in the oven and it wouldn't fit!\", 'He accidentally broke a window with the tool.', 'They have a lot of fun.', 'It was lunch time so she made her way over to the dining room.', \"I'm really glad I made the trip to the other store.\", 'Her night was already ruined.', 'Then, her mom hung the calendar on the door.', 'He made the music and ended up making tons of money.', 'I appreciated that.', 'Within a week Tammy had four families she would babysit for.', \"Because of Jill's kindness that day, Susan never bullied others again.\", 'He drove home and they hugged and said they loved each other.', 'Tom put his hair in a ponytail and played basketball, he was happy.', 'Kai vowed never to drink soda before bed again!', 'The test results revealed she had gestational diabetes.', 'Her friends loved them!', 'Bob put blister lotion on his toe when he arrived home.', \"I didn't end up using them much.\", 'Pat went to the ER where they told him he was blind in his right eye.', 'I eventually got the hang of it.', \"He was sure that's what he wanted to do after that.\", 'I told him I would try one more time.', 'Morgan knew she would definitely be going back next year.', 'Lucy is embarrassed by the encounter.', 'Jay started panhandling on the streets like a bum.', 'Dan swore off booze for good.', \"For some reason though, it didn't work.\", 'She wished she had reviewed her notes.', 'Willie ended up paying the bill late.', 'Tom was happy with his goal setting and reaching performance.', 'She smiled and gave him a pat on the head.', 'Donna gave her grandson cash.', 'The shower curtain was a great purchase!', 'Sometimes, I think they rely too much on technology!', 'My project was late, but thankfully no points were deducted.', 'When he got back home Ronnie dieted even harder than before.']\n"
     ]
    }
   ],
   "source": [
    "# Example usage:\n",
    "file_path = '../data/ROCStories.csv'  # Replace with your actual CSV file path\n",
    "random_sentences = read_random_sentences(file_path, n=100)\n",
    "print(random_sentences)"
   ]
  },
  {
   "cell_type": "markdown",
   "metadata": {},
   "source": [
    "Let's train!"
   ]
  },
  {
   "cell_type": "markdown",
   "metadata": {},
   "source": [
    "### Generating from the model\n",
    "Generating is also very simple. To generate a letter, we will take the history, look at the last $order$ characteters, and then sample a random letter based on the corresponding distribution."
   ]
  },
  {
   "cell_type": "code",
   "execution_count": 9,
   "metadata": {},
   "outputs": [],
   "source": [
    "def generate_letter(lm, history, order):\n",
    "        history = history[-order:]\n",
    "        dist = lm[history]\n",
    "        x = random.random()\n",
    "        for c,v in dist:\n",
    "            x = x - v\n",
    "            if x <= 0: return c"
   ]
  },
  {
   "cell_type": "markdown",
   "metadata": {},
   "source": [
    "To generate a passage of $k$ characters, we just seed it with the initial history and run letter generation in a loop, updating the history at each turn."
   ]
  },
  {
   "cell_type": "code",
   "execution_count": 10,
   "metadata": {},
   "outputs": [],
   "source": [
    "def generate_text(lm, order, nletters=500):\n",
    "    history = \"~\" * order\n",
    "    out = []\n",
    "    for i in range(nletters):\n",
    "        c = generate_letter(lm, history, order)\n",
    "        history = history[-order:] + c\n",
    "        out.append(c)\n",
    "    return \"\".join(out)"
   ]
  },
  {
   "cell_type": "markdown",
   "metadata": {},
   "source": [
    "### Generated Story Ending from different order models\n",
    "\n",
    "Let's try to generate text based on different language-model orders. Let's start with something silly:\n",
    "\n",
    "### order 2:"
   ]
  },
  {
   "cell_type": "code",
   "execution_count": 11,
   "metadata": {},
   "outputs": [],
   "source": [
    "lm = train_char_lm(\"../data/ROCstories.txt\", order=2)"
   ]
  },
  {
   "cell_type": "code",
   "execution_count": 12,
   "metadata": {},
   "outputs": [
    {
     "name": "stdout",
     "output_type": "stream",
     "text": [
      "Dave frien and mad of put embear bus. A Sylay. Miked ing to shecidentiten as wit it of woody pled Kimesid mod trend th he brousto her but feekeeks fed rew, hem ken holdfam. The wrownevere joland. Capkiderly ding to days hirlostalki. Jakin platera carke why trileeks some a bir a histat wase cout put to tor to mot som. To the it. Wen fer foup saide foldn't feaccide on lartairestraperearnettilen and anike paseve was winged toptim ang bird hoods the she mould, en mirlecatch, hapencout ch hile. Sheye\n"
     ]
    }
   ],
   "source": [
    "print(generate_text(lm, 2))"
   ]
  },
  {
   "cell_type": "markdown",
   "metadata": {},
   "source": [
    "Not so great.. but what if we increase the order to 4?\n",
    "\n",
    "### order 4"
   ]
  },
  {
   "cell_type": "code",
   "execution_count": 13,
   "metadata": {},
   "outputs": [],
   "source": [
    "lm = train_char_lm(\"../data/ROCstories.txt\", order=4)"
   ]
  },
  {
   "cell_type": "code",
   "execution_count": 14,
   "metadata": {
    "scrolled": true
   },
   "outputs": [
    {
     "name": "stdout",
     "output_type": "stream",
     "text": [
      "Dan's carafe put of severy have theating classed to crystale. She adult fit had somework. As the restaurant pay his friend tasterday friend innocent. Hermarket. Joe bothese she left it, he choice.\n",
      "\n",
      "Jenny to chalk home. When he hole eyes looking about nor over presert.\n",
      "\n",
      "\"Opening his more.\n",
      "\n",
      "\"Billy he she hadn't find a bird's place music football. The was an in the thout his park was to eat on Mturkey trieve went to her parathere the radio writing. So her boss clean are out computer Peter was decid\n"
     ]
    }
   ],
   "source": [
    "print(generate_text(lm, 4))"
   ]
  },
  {
   "cell_type": "code",
   "execution_count": 15,
   "metadata": {},
   "outputs": [
    {
     "name": "stdout",
     "output_type": "stream",
     "text": [
      "Dan's really she competition the USA. Jack dropping by.\n",
      "\n",
      "I country. On his construm for the strings. Her movie. Luckily, he slip to be playing not all sold me and Bradfootball the work and she team. When weekend. He was veryday to driving long. We race and And entire began to my fit promised him enought about another all was work, Mark ther to go. The clothink I regreen and she found anyone night. She went less write because this not wait the kitchen has an ex-boyfriends wedding polish section, \n"
     ]
    }
   ],
   "source": [
    "print(generate_text(lm, 4))"
   ]
  },
  {
   "cell_type": "markdown",
   "metadata": {},
   "source": [
    "This is already quite reasonable, and reads like English. Just 4 letters history! What if we increase it to 7?\n",
    "\n",
    "### order 7"
   ]
  },
  {
   "cell_type": "code",
   "execution_count": 16,
   "metadata": {},
   "outputs": [],
   "source": [
    "lm = train_char_lm(\"../data/ROCstories.txt\", order=7)"
   ]
  },
  {
   "cell_type": "code",
   "execution_count": 17,
   "metadata": {},
   "outputs": [
    {
     "name": "stdout",
     "output_type": "stream",
     "text": [
      "Dan's phone number. She thought the lice. They felt so alive with a safe and my mom had a flat iron. Dan found out, her friends how to carry. He loves to build a PC that circulated her the property. If she saw he looked it but couldn't slept in a new hair extend the sun's rays hits in money from everywhere. Joe ended up crashing dishes. He told Jack the movies yet. However, non-everything he wanted to make do with what she was carefully. Franny cut his children.\n",
      "\n",
      "The forced to 10 when his parent\n"
     ]
    }
   ],
   "source": [
    "print(generate_text(lm, 7))"
   ]
  },
  {
   "cell_type": "markdown",
   "metadata": {},
   "source": [
    "### How about 10?"
   ]
  },
  {
   "cell_type": "code",
   "execution_count": 18,
   "metadata": {},
   "outputs": [],
   "source": [
    "lm = train_char_lm(\"../data/ROCstories.txt\", order=10)"
   ]
  },
  {
   "cell_type": "code",
   "execution_count": 19,
   "metadata": {},
   "outputs": [
    {
     "name": "stdout",
     "output_type": "stream",
     "text": [
      "Dan's parents have offered to share, he would be enough to get her burnt dinner.\n",
      "\n",
      "The Ravens were tied. They always loved the inexpensive playbook and all the supplies such as comic books just sat and smiled. Mom patter Malia's head and walked to a late movie was ending by the time now.\n",
      "\n",
      "\"Helunko Spelunko was a common occurrence. I was initially they did in the hot water to max. It helped quiet her down constant complain about it.\"\n",
      "\n",
      "\"The fruit store . He found for days to get there on Black Frid\n"
     ]
    }
   ],
   "source": [
    "print(generate_text(lm, 10))"
   ]
  },
  {
   "cell_type": "code",
   "execution_count": 20,
   "metadata": {},
   "outputs": [],
   "source": [
    "from evaluate import load\n",
    "bertscore = load(\"bertscore\")\n"
   ]
  },
  {
   "cell_type": "code",
   "execution_count": 21,
   "metadata": {},
   "outputs": [
    {
     "name": "stderr",
     "output_type": "stream",
     "text": [
      "Some weights of RobertaModel were not initialized from the model checkpoint at roberta-large and are newly initialized: ['roberta.pooler.dense.bias', 'roberta.pooler.dense.weight']\n",
      "You should probably TRAIN this model on a down-stream task to be able to use it for predictions and inference.\n"
     ]
    },
    {
     "data": {
      "text/plain": [
       "{'precision': [1.0, 1.0],\n",
       " 'recall': [1.0, 1.0],\n",
       " 'f1': [1.0, 1.0],\n",
       " 'hashcode': 'roberta-large_L17_no-idf_version=0.3.12(hug_trans=4.34.1)'}"
      ]
     },
     "execution_count": 21,
     "metadata": {},
     "output_type": "execute_result"
    }
   ],
   "source": [
    "predictions = [\"hello there\", \"general kenobi\"]\n",
    "references = [\"hello there\", \"general kenobi\"]\n",
    "# results = \n",
    "bertscore.compute(predictions=predictions, references=references, lang=\"en\")"
   ]
  },
  {
   "cell_type": "code",
   "execution_count": 22,
   "metadata": {},
   "outputs": [],
   "source": [
    "predictions = []\n",
    "\n",
    "for i in range(len(random_sentences)):\n",
    "    # Extract the current line\n",
    "    current_line = random_sentences[i]\n",
    "    \n",
    "    # Determine the number of letters to be generated. This part is up to your task's specifics.\n",
    "    # For example, if you want to generate text of length equal to the current line's length:\n",
    "    # print(current_line)\n",
    "    num_letters = len(current_line)\n",
    "    # print(num_letters)\n",
    "    \n",
    "    # Generate text using the multigram model\n",
    "    generated_text = generate_text(lm, 10, num_letters)  # Adjust if generate_text requires different parameters\n",
    "    \n",
    "    # Append the generated text to the predictions list\n",
    "    predictions.append(generated_text)\n"
   ]
  },
  {
   "cell_type": "code",
   "execution_count": 23,
   "metadata": {},
   "outputs": [
    {
     "data": {
      "text/plain": [
       "100"
      ]
     },
     "execution_count": 23,
     "metadata": {},
     "output_type": "execute_result"
    }
   ],
   "source": [
    "len(predictions)"
   ]
  },
  {
   "cell_type": "code",
   "execution_count": 24,
   "metadata": {},
   "outputs": [
    {
     "data": {
      "text/plain": [
       "100"
      ]
     },
     "execution_count": 24,
     "metadata": {},
     "output_type": "execute_result"
    }
   ],
   "source": [
    "len(random_sentences)"
   ]
  },
  {
   "cell_type": "code",
   "execution_count": 25,
   "metadata": {},
   "outputs": [
    {
     "data": {
      "text/plain": [
       "[\"Dan's parent's room and turned until Monday. Instead\",\n",
       " 'Dan\\'s parents bought them.\\n\\n\"Jolie\\'s family were search',\n",
       " 'Dan\\'s parents proud.\\n\\n\"Zach was stingi',\n",
       " \"Dan's parents. His grandfather had troubl\",\n",
       " 'Dan\\'s parents enrolled in over the fall!\"\\n\\n\"Bob was unhappy, but ',\n",
       " \"Dan's parents decided to have friends ou\",\n",
       " \"Dan's parents were buggy. Charlie decides to ma\",\n",
       " \"Dan's parents and asked for help. He \",\n",
       " \"Dan's parents refused to serve on panels she refused. One day\",\n",
       " \"Dan's parents and made a weird noise. It didn't mean she n\",\n",
       " \"Dan's parents took him months to live. She and the ot\",\n",
       " \"Dan's parents brought her one. Finally, Andrew\",\n",
       " \"Dan's parents remained of it was a boy! Ellen and he\",\n",
       " \"Dan's parents eventually I made it\",\n",
       " \"Dan's parents assured him the corre\",\n",
       " \"Dan's parents room. She swung the ball\",\n",
       " \"Dan's parents. His dad and the rides. One day, Charli\",\n",
       " \"Dan's parents were impressed. \",\n",
       " \"Dan's parents who loved the attic in exchange day. I work in a \",\n",
       " \"Dan's parents were neglecting toys from\",\n",
       " \"Dan's parents told her never knew what \",\n",
       " 'Dan\\'s parents buy the app. Dan patiently as her grandma.\"\\n\\n\"Bob ',\n",
       " \"Dan's parents told him not to trip. He cast his vote for the high dive\",\n",
       " \"Dan's parents threw her bag on her screen froze. He had forgotte\",\n",
       " \"Dan's parents caught himself with them. They launc\",\n",
       " \"Dan's parents were made of wood. He got the most popular rapper i\",\n",
       " \"Dan's parents went into her side, when I logged in. Tom returned t\",\n",
       " \"Dan's parents wanted his daughter loves going to throw some breakfast\",\n",
       " 'Dan\\'s parents and follow.\"\\n\\n\"Tom\\'s friend was kind and underwear was',\n",
       " \"Dan's parents were freaked out and checks the box w\",\n",
       " \"Dan's parents and couldn't get a better life. She w\",\n",
       " \"Dan's parents went over to the doctor\",\n",
       " 'Dan\\'s parents. This made me an expert to tell her thanks.\\n\\n\"Tommi ha',\n",
       " \"Dan's parents had picked up a bag to take it\",\n",
       " \"Dan's parents spent months saving her own. She bo\",\n",
       " \"Dan's parents were worried\",\n",
       " \"Dan's parents said he didn't evacuated. The juice went a\",\n",
       " \"Dan's parents wouldn't eat a lo\",\n",
       " 'Dan\\'s parents again.\"\\n\\n\"Eric was at a friend\\'s birthd',\n",
       " \"Dan's parents brought home a dozen gifts wit\",\n",
       " \"Dan's parents gave me a massage and went to\",\n",
       " \"Dan's parents didn't tell him to leave. I \",\n",
       " \"Dan's parent's houses. He liked the rest of the pieces and the ta\",\n",
       " \"Dan's parents buy the album. He snapped and bought a giant bullfr\",\n",
       " \"Dan's parents car. Devin wins the elec\",\n",
       " \"Dan's parents were quickly. If my wife an\",\n",
       " \"Dan's parents were holding balloons. Fran's boss gave hi\",\n",
       " \"Dan's parents will not pass. But when she discovered Max sitting \",\n",
       " \"Dan's parents decided to have a good time. Unfortunately he got ever\",\n",
       " \"Dan's parents are now compete\",\n",
       " \"Dan's parents were half price. I bought all th\",\n",
       " \"Dan's parents told him to protest. She worked out a\",\n",
       " \"Dan's parents at the store and began berating his baby brother he c\",\n",
       " \"Dan's parents bought her daughter to th\",\n",
       " \"Dan's parents threw a chicken for tacos. He eat\",\n",
       " \"Dan's parents wouldn't say. She wanted to keep Zoe from ge\",\n",
       " \"Dan's parents warned him to go away. Finally she summons t\",\n",
       " \"Dan's parents took me to school class as well as hims\",\n",
       " \"Dan's parents told her to get it out. John \",\n",
       " \"Dan's parents knew he had enough votes after practice\",\n",
       " \"Dan's parents were dead during the fo\",\n",
       " \"Dan's parents were very sad. The dog ran acro\",\n",
       " \"Dan's parents house. Candy tripped and fell in love the country. It wa\",\n",
       " \"Dan's parents relax for the lead role\",\n",
       " \"Dan's parents were having fun.\\n\\nAdam was a junior in college.\",\n",
       " \"Dan's parents told him the new car. He wanted\",\n",
       " \"Dan's parents were very\",\n",
       " \"Dan's parents don't believe her eyes in embarrassed. Ellen dec\",\n",
       " \"Dan's parents took her state. She started to develo\",\n",
       " \"Dan's parent's farm. Toby wen\",\n",
       " \"Dan's parents had to be safe. But there was \",\n",
       " \"Dan's parents started fighting in the attic. She fel\",\n",
       " \"Dan's parents secre\",\n",
       " \"Dan's parents did not appreciated the gallon of milk and dra\",\n",
       " \"Dan's parents with her baby and made hundreds of coupons, the line to \",\n",
       " \"Dan's parents and his brothers know how to do it to, but star\",\n",
       " \"Dan's parents for a pet. From behind. Mary spoke to her. Cindy left\",\n",
       " \"Dan's parents were sold out with a voice but co\",\n",
       " \"Dan's parents decided he had to go to sleep well last w\",\n",
       " \"Dan's parents didn't ta\",\n",
       " \"Dan's parents for a movie. After the contract. He ended\",\n",
       " \"Dan's parents bought generator a\",\n",
       " \"Dan's parents. His grandpa took her younger sister took the game bega\",\n",
       " \"Dan's parents buy the app. The a\",\n",
       " \"Dan's parents weren't working out. Bernie gets caug\",\n",
       " \"Dan's parents had emigrated from univ\",\n",
       " \"Dan's parents when he heard a knock on the street. A huge\",\n",
       " \"Dan's parents always mad at someone t\",\n",
       " \"Dan's parents first. Because he was sad to leave a\",\n",
       " \"Dan's parents would be fun to\",\n",
       " \"Dan's parents entered the tests easily.\",\n",
       " \"Dan's parents had to own a kitten or a\",\n",
       " \"Dan's parents got angry, he tried to \",\n",
       " \"Dan's parents protested, but Kia had a wonderful time surroun\",\n",
       " \"Dan's parents were caked in the dollar sto\",\n",
       " \"Dan's parents came home from \",\n",
       " \"Dan's parents up, immediately. Priscilla\",\n",
       " \"Dan's parents in for a kiss. The two she liked it. T\",\n",
       " \"Dan's parents got rid of her own. But John discussed. Her gu\",\n",
       " \"Dan's parents in for a few weeks. He went to her and put in \"]"
      ]
     },
     "execution_count": 25,
     "metadata": {},
     "output_type": "execute_result"
    }
   ],
   "source": [
    "predictions"
   ]
  },
  {
   "cell_type": "code",
   "execution_count": 26,
   "metadata": {},
   "outputs": [
    {
     "data": {
      "text/plain": [
       "['Five hours later they went home exhausted and happy.',\n",
       " 'When she gave him the red race car he was so surprised.',\n",
       " 'She would have to wait days to see it!',\n",
       " 'She agreed to pay Angela $5 for the ball.',\n",
       " 'After marrying Julio, Michelle stopped buying breakfast burritos.',\n",
       " 'Thankfully the next day she felt better.',\n",
       " 'His dog chased away at the squirrel afterwards.',\n",
       " 'When they were done, they got dinner.',\n",
       " 'He was so loud that day that nobody enjoyed the conversation.',\n",
       " 'The little girl went to look at it and found a huge crack.',\n",
       " 'She scheduled Tim in for an appointment the next day.',\n",
       " 'They got a loan and used it to go on vacation.',\n",
       " 'Now Bob can move his boxes without hurting his back.',\n",
       " 'Tom made money from the insurance.',\n",
       " 'Luckily I did not get an infection.',\n",
       " 'When they got home he named him pokey.',\n",
       " 'His father caught him and grounded him for two weeks.',\n",
       " 'His card had no balance in it.',\n",
       " 'She started choking on her first drag and had to go home early.',\n",
       " 'Finally the drought emergency was over!',\n",
       " 'But within a week, his bike was stolen.',\n",
       " 'A few weeks later Sally was cooking in a kitchen that she loves.',\n",
       " \"I was severely disappointed when I found out the drawers weren't real.\",\n",
       " 'And he was shocked to see his name on the list - as quarterback!',\n",
       " 'She said the effort made her as happy as anything.',\n",
       " 'She wiped what sand there was on her face, and left the bathroom.',\n",
       " 'Just as he had done when saying hello, Jason cried saying goodbye.',\n",
       " 'Instead of a ticket, Judy felt the seam of her pocket ripped through.',\n",
       " \"I don't date liar, so we broke up, and I never heard from him again.\",\n",
       " 'Kobe Bryant is now considered one of the best ever.',\n",
       " 'It lasted only two days before she ate candy again.',\n",
       " 'He bought it and trashed his old one.',\n",
       " 'On his way home someone stepped on his shoes with mud on their feet.',\n",
       " 'They told her they would send her a new toy.',\n",
       " 'Sam realized that he was much happier afterwards.',\n",
       " 'Jo loved the fried salami.',\n",
       " 'There, they gave her a shot to help reduce the swelling.',\n",
       " 'Jim gave up and got out of bed.',\n",
       " \"Unfortunately he wasn't able to and messed his pants.\",\n",
       " 'The search took her mind off of her grandma.',\n",
       " 'He will be on the same team as his brother.',\n",
       " 'I thoroughly enjoyed the class discussion.',\n",
       " 'Stephen worked for 12 hours a day every day working on his craft.',\n",
       " 'His flowers were a lot more healthy without so many slugs around.',\n",
       " \"THey hadn't left the country in years!\",\n",
       " 'Joy discovered Bill was having an affair.',\n",
       " 'But all she could do with it was to make rags out of it.',\n",
       " 'Janice fell in love with a fluffy cat and took him home that day.',\n",
       " \"A wealthy passerby saw the man's work and bought it for a large sum.\",\n",
       " 'Luckily her teacher said yes.',\n",
       " 'She told him she would give it back next week.',\n",
       " 'He looked forward to attending college in the fall.',\n",
       " \"Today I don't like anyone controlling me and I'm afraid of doctors.\",\n",
       " 'I fell asleep in that awkward position.',\n",
       " \"Adam didn't know what he'd be doing without it.\",\n",
       " 'Now that fall is here, Lisa is ready for the cold weather.',\n",
       " \"Tim's hours were cut back down and he was warned about it.\",\n",
       " 'I also sent a photo to the store but got no response.',\n",
       " 'His mother-in-law was offended and said no.',\n",
       " 'He became relaxed and was able to enjoy the festival.',\n",
       " 'She got paid really well for the job.',\n",
       " 'Rita and Mike decided to get a puppy for Jim.',\n",
       " 'Afterward, he decided baloney must mean gross because it tasted nasty.',\n",
       " 'Her family and husband were thrilled.',\n",
       " \"Nancy went to put the turkey in the oven and it wouldn't fit!\",\n",
       " 'He accidentally broke a window with the tool.',\n",
       " 'They have a lot of fun.',\n",
       " 'It was lunch time so she made her way over to the dining room.',\n",
       " \"I'm really glad I made the trip to the other store.\",\n",
       " 'Her night was already ruined.',\n",
       " 'Then, her mom hung the calendar on the door.',\n",
       " 'He made the music and ended up making tons of money.',\n",
       " 'I appreciated that.',\n",
       " 'Within a week Tammy had four families she would babysit for.',\n",
       " \"Because of Jill's kindness that day, Susan never bullied others again.\",\n",
       " 'He drove home and they hugged and said they loved each other.',\n",
       " 'Tom put his hair in a ponytail and played basketball, he was happy.',\n",
       " 'Kai vowed never to drink soda before bed again!',\n",
       " 'The test results revealed she had gestational diabetes.',\n",
       " 'Her friends loved them!',\n",
       " 'Bob put blister lotion on his toe when he arrived home.',\n",
       " \"I didn't end up using them much.\",\n",
       " 'Pat went to the ER where they told him he was blind in his right eye.',\n",
       " 'I eventually got the hang of it.',\n",
       " \"He was sure that's what he wanted to do after that.\",\n",
       " 'I told him I would try one more time.',\n",
       " 'Morgan knew she would definitely be going back next year.',\n",
       " 'Lucy is embarrassed by the encounter.',\n",
       " 'Jay started panhandling on the streets like a bum.',\n",
       " 'Dan swore off booze for good.',\n",
       " \"For some reason though, it didn't work.\",\n",
       " 'She wished she had reviewed her notes.',\n",
       " 'Willie ended up paying the bill late.',\n",
       " 'Tom was happy with his goal setting and reaching performance.',\n",
       " 'She smiled and gave him a pat on the head.',\n",
       " 'Donna gave her grandson cash.',\n",
       " 'The shower curtain was a great purchase!',\n",
       " 'Sometimes, I think they rely too much on technology!',\n",
       " 'My project was late, but thankfully no points were deducted.',\n",
       " 'When he got back home Ronnie dieted even harder than before.']"
      ]
     },
     "execution_count": 26,
     "metadata": {},
     "output_type": "execute_result"
    }
   ],
   "source": [
    "random_sentences"
   ]
  },
  {
   "cell_type": "code",
   "execution_count": 27,
   "metadata": {},
   "outputs": [],
   "source": [
    "results_bert = bertscore.compute(predictions=predictions, references=random_sentences, lang=\"en\")"
   ]
  },
  {
   "cell_type": "code",
   "execution_count": 28,
   "metadata": {},
   "outputs": [
    {
     "data": {
      "text/plain": [
       "{'precision': [0.8423677086830139,\n",
       "  0.8250561952590942,\n",
       "  0.8393429517745972,\n",
       "  0.8439666628837585,\n",
       "  0.8515053391456604,\n",
       "  0.8340190649032593,\n",
       "  0.8516144752502441,\n",
       "  0.8563029170036316,\n",
       "  0.8484340906143188,\n",
       "  0.8544703722000122,\n",
       "  0.8436055779457092,\n",
       "  0.8810375332832336,\n",
       "  0.8274329900741577,\n",
       "  0.8586156964302063,\n",
       "  0.8293236494064331,\n",
       "  0.8605955243110657,\n",
       "  0.8734256029129028,\n",
       "  0.8805202841758728,\n",
       "  0.8340209722518921,\n",
       "  0.8274343609809875,\n",
       "  0.838249683380127,\n",
       "  0.8437716364860535,\n",
       "  0.8644999265670776,\n",
       "  0.8309587836265564,\n",
       "  0.8531175851821899,\n",
       "  0.8337967395782471,\n",
       "  0.8473888039588928,\n",
       "  0.8097715973854065,\n",
       "  0.8246848583221436,\n",
       "  0.8332445025444031,\n",
       "  0.8250089883804321,\n",
       "  0.8761205077171326,\n",
       "  0.831635057926178,\n",
       "  0.8500640988349915,\n",
       "  0.8389027118682861,\n",
       "  0.852202832698822,\n",
       "  0.8557407855987549,\n",
       "  0.8298729062080383,\n",
       "  0.8319246768951416,\n",
       "  0.8586809635162354,\n",
       "  0.8540977835655212,\n",
       "  0.8727129101753235,\n",
       "  0.8549500107765198,\n",
       "  0.8360841274261475,\n",
       "  0.8331066370010376,\n",
       "  0.8409188985824585,\n",
       "  0.8368018865585327,\n",
       "  0.8435626029968262,\n",
       "  0.8683086633682251,\n",
       "  0.8538742065429688,\n",
       "  0.8594707250595093,\n",
       "  0.8596633076667786,\n",
       "  0.8264633417129517,\n",
       "  0.8137317299842834,\n",
       "  0.8391561508178711,\n",
       "  0.845665693283081,\n",
       "  0.8817825317382812,\n",
       "  0.8355504274368286,\n",
       "  0.867056131362915,\n",
       "  0.8518261909484863,\n",
       "  0.840345025062561,\n",
       "  0.8557080626487732,\n",
       "  0.8544260859489441,\n",
       "  0.8749259114265442,\n",
       "  0.8582189083099365,\n",
       "  0.8699127435684204,\n",
       "  0.8366608619689941,\n",
       "  0.8378767371177673,\n",
       "  0.8485575318336487,\n",
       "  0.8352393507957458,\n",
       "  0.8750903010368347,\n",
       "  0.8734217882156372,\n",
       "  0.8169592022895813,\n",
       "  0.8254795670509338,\n",
       "  0.8197256922721863,\n",
       "  0.8436965942382812,\n",
       "  0.8475033044815063,\n",
       "  0.837968111038208,\n",
       "  0.8185598254203796,\n",
       "  0.8432402014732361,\n",
       "  0.8636429309844971,\n",
       "  0.8452447056770325,\n",
       "  0.8405526280403137,\n",
       "  0.8873060345649719,\n",
       "  0.8431432843208313,\n",
       "  0.8157858848571777,\n",
       "  0.8621648550033569,\n",
       "  0.8386548757553101,\n",
       "  0.8586004972457886,\n",
       "  0.823520302772522,\n",
       "  0.8832126259803772,\n",
       "  0.8288742899894714,\n",
       "  0.8686442375183105,\n",
       "  0.8357940912246704,\n",
       "  0.8253486156463623,\n",
       "  0.8217982053756714,\n",
       "  0.8441782593727112,\n",
       "  0.8393368721008301,\n",
       "  0.8571176528930664,\n",
       "  0.8417249321937561],\n",
       " 'recall': [0.8484602570533752,\n",
       "  0.859704315662384,\n",
       "  0.8323395848274231,\n",
       "  0.8515292406082153,\n",
       "  0.8463875651359558,\n",
       "  0.8537861108779907,\n",
       "  0.8382855653762817,\n",
       "  0.8568713068962097,\n",
       "  0.8701246380805969,\n",
       "  0.8709821105003357,\n",
       "  0.8642542362213135,\n",
       "  0.852933406829834,\n",
       "  0.856867790222168,\n",
       "  0.8777544498443604,\n",
       "  0.8691548109054565,\n",
       "  0.8385867476463318,\n",
       "  0.8815892338752747,\n",
       "  0.8688706159591675,\n",
       "  0.8432826995849609,\n",
       "  0.8448315858840942,\n",
       "  0.8350374102592468,\n",
       "  0.8497072458267212,\n",
       "  0.8576741218566895,\n",
       "  0.849125325679779,\n",
       "  0.8409430384635925,\n",
       "  0.8398503065109253,\n",
       "  0.8412471413612366,\n",
       "  0.8225952386856079,\n",
       "  0.8490828275680542,\n",
       "  0.8616271018981934,\n",
       "  0.8492787480354309,\n",
       "  0.8715593814849854,\n",
       "  0.8372324109077454,\n",
       "  0.8737691044807434,\n",
       "  0.8585538268089294,\n",
       "  0.8650889992713928,\n",
       "  0.8660672903060913,\n",
       "  0.8391616344451904,\n",
       "  0.837897002696991,\n",
       "  0.8639907836914062,\n",
       "  0.8766708970069885,\n",
       "  0.8846315741539001,\n",
       "  0.8598320484161377,\n",
       "  0.8541713953018188,\n",
       "  0.8255174160003662,\n",
       "  0.8723999857902527,\n",
       "  0.833952009677887,\n",
       "  0.8303261995315552,\n",
       "  0.8692450523376465,\n",
       "  0.8772194385528564,\n",
       "  0.8667759299278259,\n",
       "  0.8863804340362549,\n",
       "  0.8424035310745239,\n",
       "  0.8355816006660461,\n",
       "  0.838081955909729,\n",
       "  0.8417071104049683,\n",
       "  0.8947626352310181,\n",
       "  0.876891553401947,\n",
       "  0.8764050006866455,\n",
       "  0.8752754330635071,\n",
       "  0.87403804063797,\n",
       "  0.8748489022254944,\n",
       "  0.8368501663208008,\n",
       "  0.873699426651001,\n",
       "  0.8450255393981934,\n",
       "  0.8863836526870728,\n",
       "  0.8703098893165588,\n",
       "  0.8417959809303284,\n",
       "  0.8699637055397034,\n",
       "  0.8622397184371948,\n",
       "  0.8816961646080017,\n",
       "  0.8682502508163452,\n",
       "  0.8591028451919556,\n",
       "  0.851015567779541,\n",
       "  0.8454495668411255,\n",
       "  0.8517440557479858,\n",
       "  0.8439782857894897,\n",
       "  0.8425607085227966,\n",
       "  0.8543185591697693,\n",
       "  0.8568171262741089,\n",
       "  0.8423171043395996,\n",
       "  0.8638876080513,\n",
       "  0.8653788566589355,\n",
       "  0.9010123610496521,\n",
       "  0.8486725091934204,\n",
       "  0.8589030504226685,\n",
       "  0.8521798849105835,\n",
       "  0.8813633918762207,\n",
       "  0.8699049353599548,\n",
       "  0.8507208824157715,\n",
       "  0.8549962043762207,\n",
       "  0.856925904750824,\n",
       "  0.8896980881690979,\n",
       "  0.8697770833969116,\n",
       "  0.8624709248542786,\n",
       "  0.8704691529273987,\n",
       "  0.8468733429908752,\n",
       "  0.8333885669708252,\n",
       "  0.871850848197937,\n",
       "  0.8408395648002625],\n",
       " 'f1': [0.8454030156135559,\n",
       "  0.8420239686965942,\n",
       "  0.835826575756073,\n",
       "  0.8477310538291931,\n",
       "  0.8489387631416321,\n",
       "  0.843786895275116,\n",
       "  0.844897449016571,\n",
       "  0.8565869927406311,\n",
       "  0.8591424226760864,\n",
       "  0.862647294998169,\n",
       "  0.8538050651550293,\n",
       "  0.8667577505111694,\n",
       "  0.841893196105957,\n",
       "  0.868079662322998,\n",
       "  0.8487722277641296,\n",
       "  0.849448561668396,\n",
       "  0.877488374710083,\n",
       "  0.8746567368507385,\n",
       "  0.8386262655258179,\n",
       "  0.8360424637794495,\n",
       "  0.8366404175758362,\n",
       "  0.8467290997505188,\n",
       "  0.8610734939575195,\n",
       "  0.8399438261985779,\n",
       "  0.8469866514205933,\n",
       "  0.8368125557899475,\n",
       "  0.8443067669868469,\n",
       "  0.8161330223083496,\n",
       "  0.8367060422897339,\n",
       "  0.8471981287002563,\n",
       "  0.836967945098877,\n",
       "  0.873833954334259,\n",
       "  0.8344243764877319,\n",
       "  0.8617536425590515,\n",
       "  0.848614513874054,\n",
       "  0.8585975766181946,\n",
       "  0.8608730435371399,\n",
       "  0.8344914317131042,\n",
       "  0.8349001407623291,\n",
       "  0.8613277077674866,\n",
       "  0.8652371168136597,\n",
       "  0.8786318302154541,\n",
       "  0.8573841452598572,\n",
       "  0.8450309634208679,\n",
       "  0.8292946219444275,\n",
       "  0.8563702702522278,\n",
       "  0.8353744745254517,\n",
       "  0.8368920683860779,\n",
       "  0.8687766194343567,\n",
       "  0.8653894066810608,\n",
       "  0.8631079196929932,\n",
       "  0.8728175163269043,\n",
       "  0.8343573212623596,\n",
       "  0.8245119452476501,\n",
       "  0.8386186957359314,\n",
       "  0.8436817526817322,\n",
       "  0.8882251977920532,\n",
       "  0.8557220101356506,\n",
       "  0.8717055320739746,\n",
       "  0.863391637802124,\n",
       "  0.8568603992462158,\n",
       "  0.8651726245880127,\n",
       "  0.8455467820167542,\n",
       "  0.8743122220039368,\n",
       "  0.8515711426734924,\n",
       "  0.8780709505081177,\n",
       "  0.8531537652015686,\n",
       "  0.8398317694664001,\n",
       "  0.8591272830963135,\n",
       "  0.848524808883667,\n",
       "  0.8783808350563049,\n",
       "  0.87082839012146,\n",
       "  0.8375011682510376,\n",
       "  0.8380531668663025,\n",
       "  0.8323889970779419,\n",
       "  0.8477012515068054,\n",
       "  0.8457371592521667,\n",
       "  0.8402581214904785,\n",
       "  0.8360570073127747,\n",
       "  0.8499744534492493,\n",
       "  0.8528467416763306,\n",
       "  0.8544644713401794,\n",
       "  0.8527851700782776,\n",
       "  0.8941066861152649,\n",
       "  0.8458988070487976,\n",
       "  0.8367893695831299,\n",
       "  0.8571433424949646,\n",
       "  0.8594788908958435,\n",
       "  0.8642157912254333,\n",
       "  0.8368996381759644,\n",
       "  0.8688754439353943,\n",
       "  0.842666745185852,\n",
       "  0.8790451884269714,\n",
       "  0.8524470329284668,\n",
       "  0.8435015678405762,\n",
       "  0.8454337120056152,\n",
       "  0.8455236554145813,\n",
       "  0.8363521695137024,\n",
       "  0.8644214868545532,\n",
       "  0.8412820100784302],\n",
       " 'hashcode': 'roberta-large_L17_no-idf_version=0.3.12(hug_trans=4.34.1)'}"
      ]
     },
     "execution_count": 28,
     "metadata": {},
     "output_type": "execute_result"
    }
   ],
   "source": [
    "results_bert"
   ]
  },
  {
   "cell_type": "code",
   "execution_count": 29,
   "metadata": {},
   "outputs": [
    {
     "data": {
      "text/plain": [
       "(0.8460567516088485, 0.8577603483200074, 0.8517862033843994)"
      ]
     },
     "execution_count": 29,
     "metadata": {},
     "output_type": "execute_result"
    }
   ],
   "source": [
    "np.mean(results_bert['precision']), np.mean(results_bert['recall']), np.mean(results_bert['f1'])"
   ]
  },
  {
   "cell_type": "code",
   "execution_count": 30,
   "metadata": {},
   "outputs": [],
   "source": [
    "# Calculates the BLEU score for the random selection model\n",
    "bleu = load(\"bleu\")\n",
    "results_bleu = bleu.compute(predictions=predictions, references=random_sentences)"
   ]
  },
  {
   "cell_type": "code",
   "execution_count": 31,
   "metadata": {},
   "outputs": [
    {
     "data": {
      "text/plain": [
       "{'bleu': 0.0,\n",
       " 'precisions': [0.1, 0.0, 0.0, 0.0],\n",
       " 'brevity_penalty': 0.9314618921275921,\n",
       " 'length_ratio': 0.9337068160597572,\n",
       " 'translation_length': 1000,\n",
       " 'reference_length': 1071}"
      ]
     },
     "execution_count": 31,
     "metadata": {},
     "output_type": "execute_result"
    }
   ],
   "source": [
    "results_bleu"
   ]
  },
  {
   "cell_type": "code",
   "execution_count": 32,
   "metadata": {},
   "outputs": [
    {
     "name": "stderr",
     "output_type": "stream",
     "text": [
      "[nltk_data] Downloading package wordnet to\n",
      "[nltk_data]     /Users/divyasanthanam/nltk_data...\n",
      "[nltk_data]   Package wordnet is already up-to-date!\n",
      "[nltk_data] Downloading package punkt to\n",
      "[nltk_data]     /Users/divyasanthanam/nltk_data...\n",
      "[nltk_data]   Package punkt is already up-to-date!\n",
      "[nltk_data] Downloading package omw-1.4 to\n",
      "[nltk_data]     /Users/divyasanthanam/nltk_data...\n",
      "[nltk_data]   Package omw-1.4 is already up-to-date!\n"
     ]
    }
   ],
   "source": [
    "# Calculates the METEOR score for the random selection model\n",
    "meteor = load('meteor')\n",
    "results_met = meteor.compute(predictions=predictions, references=random_sentences)"
   ]
  },
  {
   "cell_type": "code",
   "execution_count": 33,
   "metadata": {},
   "outputs": [
    {
     "data": {
      "text/plain": [
       "{'meteor': 0.05284814808372861}"
      ]
     },
     "execution_count": 33,
     "metadata": {},
     "output_type": "execute_result"
    }
   ],
   "source": [
    "results_met"
   ]
  },
  {
   "cell_type": "code",
   "execution_count": 34,
   "metadata": {},
   "outputs": [],
   "source": [
    "# pip install rouge_score"
   ]
  },
  {
   "cell_type": "code",
   "execution_count": 35,
   "metadata": {},
   "outputs": [
    {
     "data": {
      "text/plain": [
       "{'rouge1': 0.052734654861345466,\n",
       " 'rouge2': 0.0,\n",
       " 'rougeL': 0.048020855444919686,\n",
       " 'rougeLsum': 0.047767597869439904}"
      ]
     },
     "execution_count": 35,
     "metadata": {},
     "output_type": "execute_result"
    }
   ],
   "source": [
    "rouge = load('rouge')\n",
    "results_rouge = rouge.compute(predictions=predictions, references=random_sentences)\n",
    "# The ROUGE score results using the random selection model\n",
    "results_rouge\n"
   ]
  },
  {
   "cell_type": "code",
   "execution_count": 36,
   "metadata": {},
   "outputs": [
    {
     "data": {
      "application/vnd.jupyter.widget-view+json": {
       "model_id": "efadda2cbabf4468a6619db5541a4e5d",
       "version_major": 2,
       "version_minor": 0
      },
      "text/plain": [
       "  0%|          | 0/7 [00:00<?, ?it/s]"
      ]
     },
     "metadata": {},
     "output_type": "display_data"
    }
   ],
   "source": [
    "# Calculates the Perplexity score for the predictions from the random selection model\n",
    "perplexity = load(\"perplexity\", module_type=\"metric\")\n",
    "results_perplexity = perplexity.compute(predictions=predictions, model_id='gpt2')\n",
    "# The Perplexity score results using the predictions from the random selection model"
   ]
  },
  {
   "cell_type": "code",
   "execution_count": 37,
   "metadata": {},
   "outputs": [
    {
     "data": {
      "text/plain": [
       "518.2468044662476"
      ]
     },
     "execution_count": 37,
     "metadata": {},
     "output_type": "execute_result"
    }
   ],
   "source": [
    "results_perplexity['mean_perplexity']"
   ]
  }
 ],
 "metadata": {
  "kernelspec": {
   "display_name": "Python 3 (ipykernel)",
   "language": "python",
   "name": "python3"
  },
  "language_info": {
   "codemirror_mode": {
    "name": "ipython",
    "version": 3
   },
   "file_extension": ".py",
   "mimetype": "text/x-python",
   "name": "python",
   "nbconvert_exporter": "python",
   "pygments_lexer": "ipython3",
   "version": "3.11.5"
  }
 },
 "nbformat": 4,
 "nbformat_minor": 4
}
