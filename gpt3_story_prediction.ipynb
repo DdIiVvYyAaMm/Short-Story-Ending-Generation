{
 "cells": [
  {
   "cell_type": "markdown",
   "metadata": {},
   "source": [
    "## GPT-3.5 Generator Model Baseline"
   ]
  },
  {
   "cell_type": "code",
   "execution_count": 1,
   "metadata": {},
   "outputs": [],
   "source": [
    "# Loads in the relevant packages\n",
    "import pandas as pd\n",
    "import numpy as np\n",
    "from evaluate import load\n",
    "\n",
    "import seaborn as sns\n",
    "import matplotlib.pyplot as plt\n",
    "\n",
    "np.random.seed(630)"
   ]
  },
  {
   "cell_type": "code",
   "execution_count": 2,
   "metadata": {},
   "outputs": [],
   "source": [
    "# Merges the 2016 and 2017 ROCStories data\n",
    "df_2016 = pd.read_csv('./ROCStories__spring2016 - ROCStories_spring2016.csv')\n",
    "df_2017 = pd.read_csv('ROCStories_winter2017 - ROCStories_winter2017.csv')\n",
    "df = pd.concat([df_2016, df_2017])"
   ]
  },
  {
   "cell_type": "code",
   "execution_count": 6,
   "metadata": {},
   "outputs": [],
   "source": [
    "from openai import OpenAI\n",
    "client = OpenAI(base_url=\"https://openai.vocareum.com/v1\", api_key=\"voc-547088396116581323079566219891017280.17915057\")\n",
    "\n",
    "bertscore = load(\"bertscore\")\n",
    "\n",
    "for _, row in df.iterrows():\n",
    "    reference = row['sentence5']\n",
    "    completion = client.chat.completions.create(model=\"gpt-3.5-turbo\", messages=[{\"role\": \"user\", \"content\": prompt}])\n",
    "    prediction = completion.choices[0].message.content\n",
    "    results = bertscore.compute(predictions = prediction, references = reference, lang=\"en\")"
   ]
  },
  {
   "cell_type": "code",
   "execution_count": null,
   "metadata": {},
   "outputs": [],
   "source": [
    "completion = client.chat.completions.create(\n",
    " model=\"gpt-3.5-turbo\",\n",
    " messages=[\n",
    "    {{\"role\": \"system\", \"content\": \"You are a helpful assistant.\"}},\n",
    "    {{\"role\": \"user\", \"content\": \"Hello!\"}}]\n",
    ")\n",
    "\n",
    "print(completion)\n",
    "print(completion.choices[0].message)"
   ]
  }
 ],
 "metadata": {
  "kernelspec": {
   "display_name": "Python 3",
   "language": "python",
   "name": "python3"
  },
  "language_info": {
   "codemirror_mode": {
    "name": "ipython",
    "version": 3
   },
   "file_extension": ".py",
   "mimetype": "text/x-python",
   "name": "python",
   "nbconvert_exporter": "python",
   "pygments_lexer": "ipython3",
   "version": "3.11.5"
  }
 },
 "nbformat": 4,
 "nbformat_minor": 2
}
